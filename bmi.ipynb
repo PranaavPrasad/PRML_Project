{
 "cells": [
  {
   "cell_type": "markdown",
   "metadata": {},
   "source": [
    "## BMI"
   ]
  },
  {
   "cell_type": "markdown",
   "metadata": {},
   "source": [
    "### Model - "
   ]
  },
  {
   "cell_type": "markdown",
   "metadata": {},
   "source": [
    "### Input - Images"
   ]
  },
  {
   "cell_type": "code",
   "execution_count": null,
   "metadata": {},
   "outputs": [],
   "source": [
    "import dlib\n",
    "import numpy as np\n",
    "import pandas as pd\n",
    "import matplotlib.pyplot as plt\n",
    "import pickle\n",
    "from sklearn.model_selection import train_test_split\n",
    "from sklearn.linear_model import LinearRegression\n",
    "from sklearn.metrics import mean_squared_error, r2_score"
   ]
  },
  {
   "cell_type": "code",
   "execution_count": null,
   "metadata": {},
   "outputs": [],
   "source": [
    "# uncomment it for your first try\n",
    "# ! wget http://dlib.net/files/shape_predictor_68_face_landmarks.dat.bz2\n",
    "# ! bzip2 -d shape_predictor_68_face_landmarks.dat.bz2"
   ]
  },
  {
   "cell_type": "code",
   "execution_count": null,
   "metadata": {},
   "outputs": [],
   "source": [
    "# Read the DataFrame from the pickle file\n",
    "with open('custom_dataset.pkl', 'rb') as f:\n",
    "    loaded_df = pickle.load(f)"
   ]
  },
  {
   "cell_type": "code",
   "execution_count": null,
   "metadata": {},
   "outputs": [],
   "source": [
    "# Convert the list to a 2D matrix of shape (512, 512)\n",
    "loaded_df['image_front_data'] = loaded_df['image_front_data'].apply(lambda x: np.array(x).reshape(512, 512))\n",
    "loaded_df['image_side_data'] = loaded_df['image_side_data'].apply(lambda x: np.array(x).reshape(512, 512))"
   ]
  },
  {
   "cell_type": "code",
   "execution_count": null,
   "metadata": {},
   "outputs": [],
   "source": [
    "loaded_df.head()"
   ]
  },
  {
   "cell_type": "code",
   "execution_count": null,
   "metadata": {},
   "outputs": [],
   "source": [
    "loaded_df.info()"
   ]
  },
  {
   "cell_type": "code",
   "execution_count": null,
   "metadata": {},
   "outputs": [],
   "source": [
    "pd.isnull(loaded_df['bmi'].iloc[5858])\n"
   ]
  },
  {
   "cell_type": "code",
   "execution_count": null,
   "metadata": {},
   "outputs": [],
   "source": [
    "#display all the null bmi values\n",
    "loaded_df[loaded_df['bmi'].isnull()]"
   ]
  },
  {
   "cell_type": "code",
   "execution_count": null,
   "metadata": {},
   "outputs": [],
   "source": [
    "# Load face detector and landmark predictor\n",
    "detector = dlib.get_frontal_face_detector()\n",
    "predictor = dlib.shape_predictor(\"shape_predictor_68_face_landmarks.dat\")"
   ]
  },
  {
   "cell_type": "code",
   "execution_count": null,
   "metadata": {},
   "outputs": [],
   "source": [
    "temp = pd.DataFrame()"
   ]
  },
  {
   "cell_type": "code",
   "execution_count": null,
   "metadata": {},
   "outputs": [],
   "source": [
    "labels = []"
   ]
  },
  {
   "cell_type": "code",
   "execution_count": null,
   "metadata": {},
   "outputs": [],
   "source": [
    "import cv2"
   ]
  },
  {
   "cell_type": "code",
   "execution_count": null,
   "metadata": {},
   "outputs": [],
   "source": [
    "# detect features for first 1 side image and then plot the image with the features and display using cv2\n",
    "img = loaded_df['image_side_data'].iloc[80]\n",
    "faces = detector(img)\n",
    "for face in faces:\n",
    "    print('face')\n",
    "    landmarks = predictor(img, face)\n",
    "    for n in range(0, 68):\n",
    "        print('landmarks')\n",
    "        x = landmarks.part(n).x\n",
    "        y = landmarks.part(n).y\n",
    "        # draw the points on the image\n",
    "        img = cv2.circle(img, (x, y), 4, (255, 0, 0), -1)\n",
    "# display the image using cv2\n",
    "cv2.imshow('image', img)\n",
    "cv2.waitKey(0)\n",
    "cv2.destroyAllWindows()"
   ]
  },
  {
   "cell_type": "code",
   "execution_count": null,
   "metadata": {},
   "outputs": [],
   "source": [
    "for i in range(len(loaded_df)):\n",
    "\n",
    "    if pd.isnull(loaded_df['bmi'].iloc[i]):\n",
    "        print('No BMI :',loaded_df['id'].iloc[i])\n",
    "        continue\n",
    "\n",
    "    image = loaded_df['image_front_data'].iloc[i]\n",
    "\n",
    "    # Detect faces\n",
    "    faces = detector(image)\n",
    "    \n",
    "    if not faces:\n",
    "        print('No face detected :',loaded_df['id'].iloc[i])\n",
    "        continue\n",
    "\n",
    "    landmarks = predictor(image, faces[0])\n",
    "\n",
    "    if not landmarks:\n",
    "        print('No landmarks detected :',loaded_df['id'].iloc[i])\n",
    "        continue\n",
    "        \n",
    "    feature = []\n",
    "    for coord in range(68):\n",
    "        x_coord = landmarks.part(coord).x\n",
    "        y_coord = landmarks.part(coord).y\n",
    "        feature.append(x_coord)\n",
    "        feature.append(y_coord)\n",
    "        \n",
    "    temp = pd.concat([temp, pd.DataFrame([feature])], ignore_index=True)\n",
    "    labels.append(loaded_df['bmi'].iloc[i])"
   ]
  },
  {
   "cell_type": "code",
   "execution_count": null,
   "metadata": {},
   "outputs": [],
   "source": [
    "len(labels)"
   ]
  },
  {
   "cell_type": "code",
   "execution_count": null,
   "metadata": {},
   "outputs": [],
   "source": [
    "test = pd.Series(labels)\n",
    "test.value_counts()\n"
   ]
  },
  {
   "cell_type": "code",
   "execution_count": null,
   "metadata": {},
   "outputs": [],
   "source": [
    "test.isna().sum()"
   ]
  },
  {
   "cell_type": "code",
   "execution_count": null,
   "metadata": {},
   "outputs": [],
   "source": [
    "temp.head()"
   ]
  },
  {
   "cell_type": "code",
   "execution_count": null,
   "metadata": {},
   "outputs": [],
   "source": [
    "temp.shape"
   ]
  },
  {
   "cell_type": "code",
   "execution_count": null,
   "metadata": {},
   "outputs": [],
   "source": [
    "def PCA(dataset):\n",
    "    mean = np.mean(dataset, axis=0)\n",
    "    z = dataset - mean\n",
    "    cov_matrix = (1/len(dataset)) * (z.T).dot(z)\n",
    "    eig_values, eig_vectors = np.linalg.eig(cov_matrix)\n",
    "    eig_pairs = [(eig_values[i], eig_vectors[:,i]) for i in range(len(eig_values))]\n",
    "    eig_pairs.sort(key=lambda x: x[0], reverse=True)\n",
    "\n",
    "    sorted_eigvalues = [eig_pairs[i][0] for i in range(len(eig_values))]\n",
    "    sorted_eigvectors = np.array([eig_pairs[i][1] for i in range(len(eig_values))])\n",
    "\n",
    "    cumulative_variance = np.cumsum(sorted_eigvalues) / np.sum(sorted_eigvalues)\n",
    "    plt.plot(cumulative_variance)\n",
    "    plt.xlabel('Number of Principal Components')\n",
    "    plt.ylabel('Cumulative Variance')\n",
    "    plt.title('Cumulative Variance vs Number of Principal Components')\n",
    "    plt.show()\n",
    "\n",
    "    n_components = np.argmax(cumulative_variance > 0.99) + 1\n",
    "\n",
    "    print('Number of Principal Components required:', n_components)\n",
    "\n",
    "    W = sorted_eigvectors[:, :20]\n",
    "    print('Shape of W:', W.shape)\n",
    "\n",
    "    dataset_pca = z.dot(W)\n",
    "    print('Shape of Reduced Dataset:', dataset_pca.shape)\n",
    "    return W, dataset_pca, mean"
   ]
  },
  {
   "cell_type": "code",
   "execution_count": null,
   "metadata": {},
   "outputs": [],
   "source": [
    "W, dataset_reduced, mean = PCA(np.array(temp))"
   ]
  },
  {
   "cell_type": "code",
   "execution_count": null,
   "metadata": {},
   "outputs": [],
   "source": [
    "# Step 2: Split the Dataset\n",
    "X_train, X_test, y_train, y_test = train_test_split(dataset_reduced, labels, test_size=0.2, random_state=42)\n",
    "\n",
    "# Step 3: Train the Model\n",
    "model = LinearRegression()\n",
    "model.fit(X_train, y_train)\n",
    "\n",
    "# Step 4: Make Predictions\n",
    "y_pred = model.predict(X_test)\n",
    "\n",
    "# Step 5: Evaluate the Model\n",
    "mse = mean_squared_error(y_test, y_pred)\n",
    "r2 = r2_score(y_test, y_pred)\n",
    "mape = np.mean(np.abs((y_test - y_pred) / y_test)) * 100  # Mean Absolute Percentage Error\n",
    "\n",
    "print(f\"Mean Squared Error (MSE): {mse:.2f}\")\n",
    "print(f\"R-squared (R²): {r2:.2f}\")\n",
    "print(f\"Mean Absolute Percentage Error (MAPE): {mape:.2f}%\")"
   ]
  },
  {
   "cell_type": "code",
   "execution_count": null,
   "metadata": {},
   "outputs": [],
   "source": []
  },
  {
   "cell_type": "code",
   "execution_count": null,
   "metadata": {},
   "outputs": [],
   "source": []
  },
  {
   "cell_type": "code",
   "execution_count": null,
   "metadata": {},
   "outputs": [],
   "source": []
  },
  {
   "cell_type": "code",
   "execution_count": null,
   "metadata": {},
   "outputs": [],
   "source": []
  },
  {
   "cell_type": "code",
   "execution_count": null,
   "metadata": {},
   "outputs": [],
   "source": []
  }
 ],
 "metadata": {
  "kernelspec": {
   "display_name": "Python 3",
   "language": "python",
   "name": "python3"
  },
  "language_info": {
   "codemirror_mode": {
    "name": "ipython",
    "version": 3
   },
   "file_extension": ".py",
   "mimetype": "text/x-python",
   "name": "python",
   "nbconvert_exporter": "python",
   "pygments_lexer": "ipython3",
   "version": "3.8.10"
  }
 },
 "nbformat": 4,
 "nbformat_minor": 2
}
