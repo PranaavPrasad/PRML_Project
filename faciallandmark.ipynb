{
 "cells": [
  {
   "cell_type": "code",
   "execution_count": 1,
   "metadata": {},
   "outputs": [],
   "source": [
    "import os\n",
    "from os import listdir\n",
    "from os.path import isfile, join\n",
    "import cv2\n",
    "import dlib\n",
    "import numpy as np\n",
    "import pandas as pd\n",
    "import matplotlib.pyplot as plt"
   ]
  },
  {
   "cell_type": "code",
   "execution_count": null,
   "metadata": {},
   "outputs": [],
   "source": [
    "! wget http://dlib.net/files/shape_predictor_68_face_landmarks.dat.bz2\n",
    "! bzip2 -d shape_predictor_68_face_landmarks.dat.bz2"
   ]
  },
  {
   "cell_type": "code",
   "execution_count": 2,
   "metadata": {},
   "outputs": [],
   "source": [
    "# Load face detector and landmark predictor\n",
    "detector = dlib.get_frontal_face_detector()\n",
    "predictor = dlib.shape_predictor(\"shape_predictor_68_face_landmarks.dat\")"
   ]
  },
  {
   "cell_type": "code",
   "execution_count": 3,
   "metadata": {},
   "outputs": [],
   "source": [
    "temp = pd.DataFrame()"
   ]
  },
  {
   "cell_type": "code",
   "execution_count": 4,
   "metadata": {},
   "outputs": [],
   "source": [
    "#iterate over all images in folder /A01356\n",
    "\n",
    "mypath = \"A01356\"\n",
    "onlyfiles = [f for f in listdir(mypath) if isfile(join(mypath, f))]\n",
    "#print(onlyfiles)\n",
    "\n",
    "for file in onlyfiles:\n",
    "    # Load image\n",
    "    #print(file)\n",
    "    img = cv2.imread(mypath + \"/\" + file)\n",
    "    img = cv2.resize(img, (512, 512))\n",
    "    gray = cv2.cvtColor(img, cv2.COLOR_BGR2GRAY)\n",
    "\n",
    "    # Detect faces\n",
    "    faces = detector(gray)\n",
    "    landmarks = predictor(gray, faces[0])\n",
    "        \n",
    "    feature = []\n",
    "    for i in range(68):\n",
    "        x = landmarks.part(i).x\n",
    "        y = landmarks.part(i).y\n",
    "        feature.append(x)\n",
    "        feature.append(y)\n",
    "        \n",
    "    temp = pd.concat([temp, pd.DataFrame([feature])], ignore_index=True)"
   ]
  },
  {
   "cell_type": "code",
   "execution_count": 5,
   "metadata": {},
   "outputs": [
    {
     "data": {
      "text/html": [
       "<div>\n",
       "<style scoped>\n",
       "    .dataframe tbody tr th:only-of-type {\n",
       "        vertical-align: middle;\n",
       "    }\n",
       "\n",
       "    .dataframe tbody tr th {\n",
       "        vertical-align: top;\n",
       "    }\n",
       "\n",
       "    .dataframe thead th {\n",
       "        text-align: right;\n",
       "    }\n",
       "</style>\n",
       "<table border=\"1\" class=\"dataframe\">\n",
       "  <thead>\n",
       "    <tr style=\"text-align: right;\">\n",
       "      <th></th>\n",
       "      <th>0</th>\n",
       "      <th>1</th>\n",
       "      <th>2</th>\n",
       "      <th>3</th>\n",
       "      <th>4</th>\n",
       "      <th>5</th>\n",
       "      <th>6</th>\n",
       "      <th>7</th>\n",
       "      <th>8</th>\n",
       "      <th>9</th>\n",
       "      <th>...</th>\n",
       "      <th>126</th>\n",
       "      <th>127</th>\n",
       "      <th>128</th>\n",
       "      <th>129</th>\n",
       "      <th>130</th>\n",
       "      <th>131</th>\n",
       "      <th>132</th>\n",
       "      <th>133</th>\n",
       "      <th>134</th>\n",
       "      <th>135</th>\n",
       "    </tr>\n",
       "  </thead>\n",
       "  <tbody>\n",
       "    <tr>\n",
       "      <th>0</th>\n",
       "      <td>133</td>\n",
       "      <td>217</td>\n",
       "      <td>137</td>\n",
       "      <td>243</td>\n",
       "      <td>142</td>\n",
       "      <td>270</td>\n",
       "      <td>149</td>\n",
       "      <td>297</td>\n",
       "      <td>160</td>\n",
       "      <td>322</td>\n",
       "      <td>...</td>\n",
       "      <td>257</td>\n",
       "      <td>292</td>\n",
       "      <td>279</td>\n",
       "      <td>290</td>\n",
       "      <td>257</td>\n",
       "      <td>289</td>\n",
       "      <td>248</td>\n",
       "      <td>292</td>\n",
       "      <td>237</td>\n",
       "      <td>293</td>\n",
       "    </tr>\n",
       "    <tr>\n",
       "      <th>1</th>\n",
       "      <td>133</td>\n",
       "      <td>188</td>\n",
       "      <td>134</td>\n",
       "      <td>218</td>\n",
       "      <td>137</td>\n",
       "      <td>248</td>\n",
       "      <td>139</td>\n",
       "      <td>277</td>\n",
       "      <td>144</td>\n",
       "      <td>306</td>\n",
       "      <td>...</td>\n",
       "      <td>239</td>\n",
       "      <td>307</td>\n",
       "      <td>268</td>\n",
       "      <td>311</td>\n",
       "      <td>239</td>\n",
       "      <td>309</td>\n",
       "      <td>228</td>\n",
       "      <td>310</td>\n",
       "      <td>218</td>\n",
       "      <td>308</td>\n",
       "    </tr>\n",
       "    <tr>\n",
       "      <th>2</th>\n",
       "      <td>121</td>\n",
       "      <td>214</td>\n",
       "      <td>124</td>\n",
       "      <td>246</td>\n",
       "      <td>128</td>\n",
       "      <td>276</td>\n",
       "      <td>135</td>\n",
       "      <td>307</td>\n",
       "      <td>147</td>\n",
       "      <td>336</td>\n",
       "      <td>...</td>\n",
       "      <td>249</td>\n",
       "      <td>314</td>\n",
       "      <td>276</td>\n",
       "      <td>314</td>\n",
       "      <td>250</td>\n",
       "      <td>330</td>\n",
       "      <td>237</td>\n",
       "      <td>334</td>\n",
       "      <td>224</td>\n",
       "      <td>334</td>\n",
       "    </tr>\n",
       "    <tr>\n",
       "      <th>3</th>\n",
       "      <td>161</td>\n",
       "      <td>222</td>\n",
       "      <td>161</td>\n",
       "      <td>248</td>\n",
       "      <td>165</td>\n",
       "      <td>275</td>\n",
       "      <td>170</td>\n",
       "      <td>303</td>\n",
       "      <td>179</td>\n",
       "      <td>329</td>\n",
       "      <td>...</td>\n",
       "      <td>274</td>\n",
       "      <td>311</td>\n",
       "      <td>301</td>\n",
       "      <td>311</td>\n",
       "      <td>274</td>\n",
       "      <td>312</td>\n",
       "      <td>261</td>\n",
       "      <td>313</td>\n",
       "      <td>249</td>\n",
       "      <td>312</td>\n",
       "    </tr>\n",
       "    <tr>\n",
       "      <th>4</th>\n",
       "      <td>150</td>\n",
       "      <td>211</td>\n",
       "      <td>151</td>\n",
       "      <td>239</td>\n",
       "      <td>153</td>\n",
       "      <td>265</td>\n",
       "      <td>158</td>\n",
       "      <td>291</td>\n",
       "      <td>166</td>\n",
       "      <td>315</td>\n",
       "      <td>...</td>\n",
       "      <td>255</td>\n",
       "      <td>303</td>\n",
       "      <td>275</td>\n",
       "      <td>306</td>\n",
       "      <td>255</td>\n",
       "      <td>301</td>\n",
       "      <td>242</td>\n",
       "      <td>302</td>\n",
       "      <td>232</td>\n",
       "      <td>301</td>\n",
       "    </tr>\n",
       "  </tbody>\n",
       "</table>\n",
       "<p>5 rows × 136 columns</p>\n",
       "</div>"
      ],
      "text/plain": [
       "   0    1    2    3    4    5    6    7    8    9    ...  126  127  128  129  \\\n",
       "0  133  217  137  243  142  270  149  297  160  322  ...  257  292  279  290   \n",
       "1  133  188  134  218  137  248  139  277  144  306  ...  239  307  268  311   \n",
       "2  121  214  124  246  128  276  135  307  147  336  ...  249  314  276  314   \n",
       "3  161  222  161  248  165  275  170  303  179  329  ...  274  311  301  311   \n",
       "4  150  211  151  239  153  265  158  291  166  315  ...  255  303  275  306   \n",
       "\n",
       "   130  131  132  133  134  135  \n",
       "0  257  289  248  292  237  293  \n",
       "1  239  309  228  310  218  308  \n",
       "2  250  330  237  334  224  334  \n",
       "3  274  312  261  313  249  312  \n",
       "4  255  301  242  302  232  301  \n",
       "\n",
       "[5 rows x 136 columns]"
      ]
     },
     "execution_count": 5,
     "metadata": {},
     "output_type": "execute_result"
    }
   ],
   "source": [
    "temp.head()"
   ]
  },
  {
   "cell_type": "code",
   "execution_count": 6,
   "metadata": {},
   "outputs": [
    {
     "data": {
      "text/plain": [
       "(19, 136)"
      ]
     },
     "execution_count": 6,
     "metadata": {},
     "output_type": "execute_result"
    }
   ],
   "source": [
    "temp.shape"
   ]
  },
  {
   "cell_type": "code",
   "execution_count": 9,
   "metadata": {},
   "outputs": [],
   "source": [
    "def PCA(dataset):\n",
    "    mean = np.mean(dataset, axis=0)\n",
    "    z = dataset - mean\n",
    "    cov_matrix = (1/len(dataset)) * (z.T).dot(z)\n",
    "    eig_values, eig_vectors = np.linalg.eig(cov_matrix)\n",
    "    eig_pairs = [(eig_values[i], eig_vectors[:,i]) for i in range(len(eig_values))]\n",
    "    eig_pairs.sort(key=lambda x: x[0], reverse=True)\n",
    "\n",
    "    sorted_eigvalues = [eig_pairs[i][0] for i in range(len(eig_values))]\n",
    "    sorted_eigvectors = np.array([eig_pairs[i][1] for i in range(len(eig_values))])\n",
    "\n",
    "    cumulative_variance = np.cumsum(sorted_eigvalues) / np.sum(sorted_eigvalues)\n",
    "    plt.plot(cumulative_variance)\n",
    "    plt.xlabel('Number of Principal Components')\n",
    "    plt.ylabel('Cumulative Variance')\n",
    "    plt.title('Cumulative Variance vs Number of Principal Components')\n",
    "    plt.show()\n",
    "\n",
    "    n_components = np.argmax(cumulative_variance > 0.99) + 1\n",
    "\n",
    "    print('Number of Principal Components required:', n_components)\n",
    "\n",
    "    W = sorted_eigvectors[:, :n_components]\n",
    "    print('Shape of W:', W.shape)\n",
    "\n",
    "    dataset_pca = z.dot(W)\n",
    "    print('Shape of Reduced Dataset:', dataset_pca.shape)\n",
    "    return W, dataset_pca"
   ]
  },
  {
   "cell_type": "code",
   "execution_count": 12,
   "metadata": {},
   "outputs": [
    {
     "name": "stderr",
     "output_type": "stream",
     "text": [
      "/home/jyolsnajisac/.local/lib/python3.8/site-packages/matplotlib/cbook/__init__.py:1345: ComplexWarning: Casting complex values to real discards the imaginary part\n",
      "  return np.asarray(x, float)\n"
     ]
    },
    {
     "data": {
      "image/png": "[encoded data removed]",
      "text/plain": [
       "<Figure size 640x480 with 1 Axes>"
      ]
     },
     "metadata": {},
     "output_type": "display_data"
    },
    {
     "name": "stdout",
     "output_type": "stream",
     "text": [
      "Number of Principal Components required: 6\n",
      "Shape of W: (136, 6)\n",
      "Shape of Reduced Dataset: (19, 6)\n"
     ]
    }
   ],
   "source": [
    "W, dataset_reduced = PCA(np.array(temp))"
   ]
  },
  {
   "cell_type": "code",
   "execution_count": 14,
   "metadata": {},
   "outputs": [
    {
     "data": {
      "text/plain": [
       "(136, 6)"
      ]
     },
     "execution_count": 14,
     "metadata": {},
     "output_type": "execute_result"
    }
   ],
   "source": [
    "W.shape"
   ]
  },
  {
   "cell_type": "code",
   "execution_count": 13,
   "metadata": {},
   "outputs": [
    {
     "data": {
      "text/plain": [
       "(19, 6)"
      ]
     },
     "execution_count": 13,
     "metadata": {},
     "output_type": "execute_result"
    }
   ],
   "source": [
    "dataset_reduced.shape"
   ]
  }
 ],
 "metadata": {
  "kernelspec": {
   "display_name": "Python 3",
   "language": "python",
   "name": "python3"
  },
  "language_info": {
   "codemirror_mode": {
    "name": "ipython",
    "version": 3
   },
   "file_extension": ".py",
   "mimetype": "text/x-python",
   "name": "python",
   "nbconvert_exporter": "python",
   "pygments_lexer": "ipython3",
   "version": "3.8.10"
  }
 },
 "nbformat": 4,
 "nbformat_minor": 2
}
