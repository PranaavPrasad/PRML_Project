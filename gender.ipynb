{
 "cells": [
  {
   "cell_type": "markdown",
   "metadata": {},
   "source": [
    "## Gender Classification"
   ]
  },
  {
   "cell_type": "markdown",
   "metadata": {},
   "source": [
    "### Model - PCA and SVM"
   ]
  },
  {
   "cell_type": "markdown",
   "metadata": {},
   "source": [
    "### Input - Images"
   ]
  },
  {
   "cell_type": "code",
   "execution_count": 1,
   "metadata": {},
   "outputs": [],
   "source": [
    "import dlib\n",
    "import numpy as np\n",
    "import pandas as pd\n",
    "import matplotlib.pyplot as plt\n",
    "import pickle\n",
    "from sklearn.svm import SVC\n",
    "from sklearn.model_selection import train_test_split\n",
    "from sklearn.metrics import accuracy_score"
   ]
  },
  {
   "cell_type": "markdown",
   "metadata": {},
   "source": [
    "! wget http://dlib.net/files/shape_predictor_68_face_landmarks.dat.bz2\n",
    "! bzip2 -d shape_predictor_68_face_landmarks.dat.bz2"
   ]
  },
  {
   "cell_type": "code",
   "execution_count": 2,
   "metadata": {},
   "outputs": [],
   "source": [
    "# Read the DataFrame from the pickle file\n",
    "with open('custom_dataset.pkl', 'rb') as f:\n",
    "    loaded_df = pickle.load(f)"
   ]
  },
  {
   "cell_type": "code",
   "execution_count": null,
   "metadata": {},
   "outputs": [],
   "source": [
    "# Convert the list to a 2D matrix of shape (512, 512)\n",
    "loaded_df['image_front_data'] = loaded_df['image_front_data'].apply(lambda x: np.array(x).reshape(512, 512))\n",
    "loaded_df['image_side_data'] = loaded_df['image_side_data'].apply(lambda x: np.array(x).reshape(512, 512))"
   ]
  },
  {
   "cell_type": "code",
   "execution_count": null,
   "metadata": {},
   "outputs": [
    {
     "data": {
      "text/html": [
       "<div>\n",
       "<style scoped>\n",
       "    .dataframe tbody tr th:only-of-type {\n",
       "        vertical-align: middle;\n",
       "    }\n",
       "\n",
       "    .dataframe tbody tr th {\n",
       "        vertical-align: top;\n",
       "    }\n",
       "\n",
       "    .dataframe thead th {\n",
       "        text-align: right;\n",
       "    }\n",
       "</style>\n",
       "<table border=\"1\" class=\"dataframe\">\n",
       "  <thead>\n",
       "    <tr style=\"text-align: right;\">\n",
       "      <th></th>\n",
       "      <th>id</th>\n",
       "      <th>sex</th>\n",
       "      <th>bmi</th>\n",
       "      <th>image_front_data</th>\n",
       "      <th>image_side_data</th>\n",
       "    </tr>\n",
       "  </thead>\n",
       "  <tbody>\n",
       "    <tr>\n",
       "      <th>0</th>\n",
       "      <td>A00360</td>\n",
       "      <td>Male</td>\n",
       "      <td>24.66</td>\n",
       "      <td>[[185, 184, 183, 182, 181, 181, 181, 183, 183,...</td>\n",
       "      <td>[[180, 181, 183, 184, 186, 186, 185, 184, 183,...</td>\n",
       "    </tr>\n",
       "    <tr>\n",
       "      <th>1</th>\n",
       "      <td>A00367</td>\n",
       "      <td>Male</td>\n",
       "      <td>33.23</td>\n",
       "      <td>[[181, 183, 189, 191, 195, 200, 205, 209, 205,...</td>\n",
       "      <td>[[189, 191, 188, 194, 198, 197, 201, 211, 210,...</td>\n",
       "    </tr>\n",
       "    <tr>\n",
       "      <th>2</th>\n",
       "      <td>A01815</td>\n",
       "      <td>Male</td>\n",
       "      <td>34.21</td>\n",
       "      <td>[[165, 166, 169, 169, 169, 168, 166, 164, 164,...</td>\n",
       "      <td>[[172, 172, 171, 170, 170, 170, 170, 171, 171,...</td>\n",
       "    </tr>\n",
       "    <tr>\n",
       "      <th>3</th>\n",
       "      <td>A01824</td>\n",
       "      <td>Male</td>\n",
       "      <td>28.48</td>\n",
       "      <td>[[160, 154, 154, 155, 151, 149, 150, 153, 156,...</td>\n",
       "      <td>[[153, 153, 153, 154, 154, 153, 152, 151, 150,...</td>\n",
       "    </tr>\n",
       "    <tr>\n",
       "      <th>4</th>\n",
       "      <td>A01889</td>\n",
       "      <td>Male</td>\n",
       "      <td>34.95</td>\n",
       "      <td>[[149, 150, 151, 151, 151, 150, 150, 150, 149,...</td>\n",
       "      <td>[[153, 155, 155, 156, 158, 156, 154, 155, 156,...</td>\n",
       "    </tr>\n",
       "  </tbody>\n",
       "</table>\n",
       "</div>"
      ],
      "text/plain": [
       "       id   sex    bmi                                   image_front_data  \\\n",
       "0  A00360  Male  24.66  [[185, 184, 183, 182, 181, 181, 181, 183, 183,...   \n",
       "1  A00367  Male  33.23  [[181, 183, 189, 191, 195, 200, 205, 209, 205,...   \n",
       "2  A01815  Male  34.21  [[165, 166, 169, 169, 169, 168, 166, 164, 164,...   \n",
       "3  A01824  Male  28.48  [[160, 154, 154, 155, 151, 149, 150, 153, 156,...   \n",
       "4  A01889  Male  34.95  [[149, 150, 151, 151, 151, 150, 150, 150, 149,...   \n",
       "\n",
       "                                     image_side_data  \n",
       "0  [[180, 181, 183, 184, 186, 186, 185, 184, 183,...  \n",
       "1  [[189, 191, 188, 194, 198, 197, 201, 211, 210,...  \n",
       "2  [[172, 172, 171, 170, 170, 170, 170, 171, 171,...  \n",
       "3  [[153, 153, 153, 154, 154, 153, 152, 151, 150,...  \n",
       "4  [[153, 155, 155, 156, 158, 156, 154, 155, 156,...  "
      ]
     },
     "execution_count": 5,
     "metadata": {},
     "output_type": "execute_result"
    }
   ],
   "source": [
    "loaded_df.head()"
   ]
  },
  {
   "cell_type": "code",
   "execution_count": 10,
   "metadata": {},
   "outputs": [
    {
     "name": "stdout",
     "output_type": "stream",
     "text": [
      "<class 'pandas.core.frame.DataFrame'>\n",
      "RangeIndex: 7663 entries, 0 to 7662\n",
      "Data columns (total 5 columns):\n",
      " #   Column            Non-Null Count  Dtype  \n",
      "---  ------            --------------  -----  \n",
      " 0   id                7663 non-null   object \n",
      " 1   sex               7662 non-null   object \n",
      " 2   bmi               7641 non-null   float64\n",
      " 3   image_front_data  7663 non-null   object \n",
      " 4   image_side_data   7663 non-null   object \n",
      "dtypes: float64(1), object(4)\n",
      "memory usage: 299.5+ KB\n"
     ]
    }
   ],
   "source": [
    "loaded_df.info()"
   ]
  },
  {
   "cell_type": "code",
   "execution_count": 16,
   "metadata": {},
   "outputs": [],
   "source": [
    "# Load face detector and landmark predictor\n",
    "detector = dlib.get_frontal_face_detector()\n",
    "predictor = dlib.shape_predictor(\"shape_predictor_68_face_landmarks.dat\")"
   ]
  },
  {
   "cell_type": "code",
   "execution_count": 51,
   "metadata": {},
   "outputs": [],
   "source": [
    "temp = pd.DataFrame()"
   ]
  },
  {
   "cell_type": "code",
   "execution_count": 52,
   "metadata": {},
   "outputs": [],
   "source": [
    "labels = []"
   ]
  },
  {
   "cell_type": "code",
   "execution_count": 53,
   "metadata": {},
   "outputs": [
    {
     "name": "stdout",
     "output_type": "stream",
     "text": [
      "No face detected : A10508\n",
      "No face detected : A10938\n",
      "No face detected : A80442\n",
      "No face detected : A91250\n",
      "No face detected : B03186\n",
      "No face detected : B04516\n",
      "No face detected : B09533\n",
      "No face detected : B25658\n",
      "No face detected : B38219\n",
      "No face detected : B84769\n",
      "No face detected : K74649\n",
      "No face detected : M47760\n",
      "No face detected : N10255\n",
      "No face detected : N23774\n",
      "No face detected : N62045\n",
      "No face detected : N63220\n",
      "No face detected : N82954\n",
      "No face detected : N90809\n",
      "No face detected : N93177\n",
      "No face detected : N98608\n",
      "No face detected : R23770\n",
      "No face detected : R60484\n",
      "No face detected : R68950\n",
      "No face detected : Y10340\n",
      "No face detected : Y22814\n"
     ]
    }
   ],
   "source": [
    "temp = pd.DataFrame()\n",
    "labels = []\n",
    "for i in range(len(loaded_df)):\n",
    "    image = loaded_df['image_front_data'].iloc[i]\n",
    "    faces = detector(image)\n",
    "    \n",
    "    if not faces:\n",
    "        print('No face detected :',loaded_df['id'].iloc[i])\n",
    "        continue\n",
    "\n",
    "    landmarks = predictor(image, faces[0])\n",
    "\n",
    "    if not landmarks:\n",
    "        print('No landmarks detected :',loaded_df['id'].iloc[i])\n",
    "        continue\n",
    "        \n",
    "    feature = []\n",
    "    for coord in range(68):\n",
    "        x_coord = landmarks.part(coord).x\n",
    "        y_coord = landmarks.part(coord).y\n",
    "        feature.append(x_coord)\n",
    "        feature.append(y_coord)\n",
    "        \n",
    "    temp = pd.concat([temp, pd.DataFrame([feature])], ignore_index=True)\n",
    "    if(loaded_df['sex'].iloc[i] == 'Male'):\n",
    "        labels.append(0)\n",
    "    else:\n",
    "        labels.append(1)"
   ]
  },
  {
   "cell_type": "code",
   "execution_count": 54,
   "metadata": {},
   "outputs": [
    {
     "data": {
      "text/plain": [
       "(3976, 3662)"
      ]
     },
     "execution_count": 54,
     "metadata": {},
     "output_type": "execute_result"
    }
   ],
   "source": [
    "labels.count(0), labels.count(1)"
   ]
  },
  {
   "cell_type": "code",
   "execution_count": 55,
   "metadata": {},
   "outputs": [
    {
     "data": {
      "text/html": [
       "<div>\n",
       "<style scoped>\n",
       "    .dataframe tbody tr th:only-of-type {\n",
       "        vertical-align: middle;\n",
       "    }\n",
       "\n",
       "    .dataframe tbody tr th {\n",
       "        vertical-align: top;\n",
       "    }\n",
       "\n",
       "    .dataframe thead th {\n",
       "        text-align: right;\n",
       "    }\n",
       "</style>\n",
       "<table border=\"1\" class=\"dataframe\">\n",
       "  <thead>\n",
       "    <tr style=\"text-align: right;\">\n",
       "      <th></th>\n",
       "      <th>0</th>\n",
       "      <th>1</th>\n",
       "      <th>2</th>\n",
       "      <th>3</th>\n",
       "      <th>4</th>\n",
       "      <th>5</th>\n",
       "      <th>6</th>\n",
       "      <th>7</th>\n",
       "      <th>8</th>\n",
       "      <th>9</th>\n",
       "      <th>...</th>\n",
       "      <th>126</th>\n",
       "      <th>127</th>\n",
       "      <th>128</th>\n",
       "      <th>129</th>\n",
       "      <th>130</th>\n",
       "      <th>131</th>\n",
       "      <th>132</th>\n",
       "      <th>133</th>\n",
       "      <th>134</th>\n",
       "      <th>135</th>\n",
       "    </tr>\n",
       "  </thead>\n",
       "  <tbody>\n",
       "    <tr>\n",
       "      <th>0</th>\n",
       "      <td>133</td>\n",
       "      <td>188</td>\n",
       "      <td>134</td>\n",
       "      <td>218</td>\n",
       "      <td>137</td>\n",
       "      <td>248</td>\n",
       "      <td>139</td>\n",
       "      <td>277</td>\n",
       "      <td>144</td>\n",
       "      <td>306</td>\n",
       "      <td>...</td>\n",
       "      <td>239</td>\n",
       "      <td>307</td>\n",
       "      <td>268</td>\n",
       "      <td>311</td>\n",
       "      <td>239</td>\n",
       "      <td>309</td>\n",
       "      <td>228</td>\n",
       "      <td>310</td>\n",
       "      <td>218</td>\n",
       "      <td>308</td>\n",
       "    </tr>\n",
       "    <tr>\n",
       "      <th>1</th>\n",
       "      <td>133</td>\n",
       "      <td>217</td>\n",
       "      <td>137</td>\n",
       "      <td>243</td>\n",
       "      <td>142</td>\n",
       "      <td>270</td>\n",
       "      <td>149</td>\n",
       "      <td>297</td>\n",
       "      <td>160</td>\n",
       "      <td>322</td>\n",
       "      <td>...</td>\n",
       "      <td>257</td>\n",
       "      <td>292</td>\n",
       "      <td>279</td>\n",
       "      <td>290</td>\n",
       "      <td>257</td>\n",
       "      <td>289</td>\n",
       "      <td>248</td>\n",
       "      <td>292</td>\n",
       "      <td>237</td>\n",
       "      <td>293</td>\n",
       "    </tr>\n",
       "    <tr>\n",
       "      <th>2</th>\n",
       "      <td>146</td>\n",
       "      <td>163</td>\n",
       "      <td>144</td>\n",
       "      <td>184</td>\n",
       "      <td>143</td>\n",
       "      <td>206</td>\n",
       "      <td>143</td>\n",
       "      <td>229</td>\n",
       "      <td>147</td>\n",
       "      <td>251</td>\n",
       "      <td>...</td>\n",
       "      <td>238</td>\n",
       "      <td>226</td>\n",
       "      <td>257</td>\n",
       "      <td>232</td>\n",
       "      <td>238</td>\n",
       "      <td>226</td>\n",
       "      <td>228</td>\n",
       "      <td>227</td>\n",
       "      <td>219</td>\n",
       "      <td>226</td>\n",
       "    </tr>\n",
       "    <tr>\n",
       "      <th>3</th>\n",
       "      <td>133</td>\n",
       "      <td>188</td>\n",
       "      <td>134</td>\n",
       "      <td>217</td>\n",
       "      <td>138</td>\n",
       "      <td>245</td>\n",
       "      <td>144</td>\n",
       "      <td>275</td>\n",
       "      <td>153</td>\n",
       "      <td>302</td>\n",
       "      <td>...</td>\n",
       "      <td>252</td>\n",
       "      <td>301</td>\n",
       "      <td>273</td>\n",
       "      <td>297</td>\n",
       "      <td>253</td>\n",
       "      <td>301</td>\n",
       "      <td>241</td>\n",
       "      <td>304</td>\n",
       "      <td>228</td>\n",
       "      <td>302</td>\n",
       "    </tr>\n",
       "    <tr>\n",
       "      <th>4</th>\n",
       "      <td>156</td>\n",
       "      <td>238</td>\n",
       "      <td>154</td>\n",
       "      <td>263</td>\n",
       "      <td>154</td>\n",
       "      <td>291</td>\n",
       "      <td>157</td>\n",
       "      <td>320</td>\n",
       "      <td>164</td>\n",
       "      <td>348</td>\n",
       "      <td>...</td>\n",
       "      <td>260</td>\n",
       "      <td>309</td>\n",
       "      <td>297</td>\n",
       "      <td>320</td>\n",
       "      <td>261</td>\n",
       "      <td>324</td>\n",
       "      <td>247</td>\n",
       "      <td>325</td>\n",
       "      <td>233</td>\n",
       "      <td>324</td>\n",
       "    </tr>\n",
       "  </tbody>\n",
       "</table>\n",
       "<p>5 rows × 136 columns</p>\n",
       "</div>"
      ],
      "text/plain": [
       "   0    1    2    3    4    5    6    7    8    9    ...  126  127  128  129  \\\n",
       "0  133  188  134  218  137  248  139  277  144  306  ...  239  307  268  311   \n",
       "1  133  217  137  243  142  270  149  297  160  322  ...  257  292  279  290   \n",
       "2  146  163  144  184  143  206  143  229  147  251  ...  238  226  257  232   \n",
       "3  133  188  134  217  138  245  144  275  153  302  ...  252  301  273  297   \n",
       "4  156  238  154  263  154  291  157  320  164  348  ...  260  309  297  320   \n",
       "\n",
       "   130  131  132  133  134  135  \n",
       "0  239  309  228  310  218  308  \n",
       "1  257  289  248  292  237  293  \n",
       "2  238  226  228  227  219  226  \n",
       "3  253  301  241  304  228  302  \n",
       "4  261  324  247  325  233  324  \n",
       "\n",
       "[5 rows x 136 columns]"
      ]
     },
     "execution_count": 55,
     "metadata": {},
     "output_type": "execute_result"
    }
   ],
   "source": [
    "temp.head()"
   ]
  },
  {
   "cell_type": "code",
   "execution_count": 56,
   "metadata": {},
   "outputs": [
    {
     "data": {
      "text/plain": [
       "(7638, 136)"
      ]
     },
     "execution_count": 56,
     "metadata": {},
     "output_type": "execute_result"
    }
   ],
   "source": [
    "temp.shape"
   ]
  },
  {
   "cell_type": "code",
   "execution_count": 67,
   "metadata": {},
   "outputs": [],
   "source": [
    "def PCA(dataset):\n",
    "    mean = np.mean(dataset, axis=0)\n",
    "    z = dataset - mean\n",
    "    cov_matrix = (1/len(dataset)) * (z.T).dot(z)\n",
    "    eig_values, eig_vectors = np.linalg.eig(cov_matrix)\n",
    "    eig_pairs = [(eig_values[i], eig_vectors[:,i]) for i in range(len(eig_values))]\n",
    "    eig_pairs.sort(key=lambda x: x[0], reverse=True)\n",
    "\n",
    "    sorted_eigvalues = [eig_pairs[i][0] for i in range(len(eig_values))]\n",
    "    sorted_eigvectors = np.array([eig_pairs[i][1] for i in range(len(eig_values))])\n",
    "\n",
    "    cumulative_variance = np.cumsum(sorted_eigvalues) / np.sum(sorted_eigvalues)\n",
    "    plt.plot(cumulative_variance)\n",
    "    plt.xlabel('Number of Principal Components')\n",
    "    plt.ylabel('Cumulative Variance')\n",
    "    plt.title('Cumulative Variance vs Number of Principal Components')\n",
    "    plt.show()\n",
    "\n",
    "    n_components = np.argmax(cumulative_variance > 0.999) + 1\n",
    "\n",
    "    print('Number of Principal Components required:', n_components)\n",
    "\n",
    "    W = sorted_eigvectors[:, :n_components]\n",
    "    print('Shape of W:', W.shape)\n",
    "\n",
    "    dataset_pca = z.dot(W)\n",
    "    print('Shape of Reduced Dataset:', dataset_pca.shape)\n",
    "    return W, dataset_pca, mean"
   ]
  },
  {
   "cell_type": "code",
   "execution_count": 68,
   "metadata": {},
   "outputs": [
    {
     "data": {
      "image/png": "[encoded data removed]",
      "text/plain": [
       "<Figure size 640x480 with 1 Axes>"
      ]
     },
     "metadata": {},
     "output_type": "display_data"
    },
    {
     "name": "stdout",
     "output_type": "stream",
     "text": [
      "Number of Principal Components required: 8\n",
      "Shape of W: (136, 20)\n",
      "Shape of Reduced Dataset: (7638, 20)\n"
     ]
    }
   ],
   "source": [
    "W, dataset_reduced, mean = PCA(np.array(temp))"
   ]
  },
  {
   "cell_type": "code",
   "execution_count": null,
   "metadata": {},
   "outputs": [],
   "source": [
    "# perform svm on the reduced dataset and labels\n",
    "\n",
    "X_train, X_test, y_train, y_test = train_test_split(dataset_reduced, labels, test_size=0.1, random_state=42)\n",
    "\n",
    "clf = SVC(kernel='linear')\n",
    "clf.fit(X_train, y_train)\n",
    "\n",
    "y_pred = clf.predict(X_test)\n",
    "accuracy = accuracy_score(y_test, y_pred)\n",
    "print('Accuracy:', accuracy)"
   ]
  },
  {
   "cell_type": "code",
   "execution_count": 66,
   "metadata": {},
   "outputs": [
    {
     "name": "stdout",
     "output_type": "stream",
     "text": [
      "Accuracy: 0.9554973821989529\n"
     ]
    }
   ],
   "source": [
    "import numpy as np\n",
    "from cvxopt import matrix, solvers\n",
    "from sklearn.preprocessing import StandardScaler\n",
    "\n",
    "# Ensure labels are in the form {-1, 1}\n",
    "def adjust_labels(y):\n",
    "    return 2 * y - 1  # Convert 0 to -1, keep 1 as 1\n",
    "\n",
    "def getalpha(x, y, max_iters=1000, abstol=1e-7, reltol=1e-7, feastol=1e-7):\n",
    "    m, n = x.shape\n",
    "\n",
    "    # Reshape y to a column vector\n",
    "    y = y.reshape(-1, 1)\n",
    "\n",
    "    # Compute the Gram matrix H\n",
    "    H = (y @ y.T) * (x @ x.T)\n",
    "    H = np.array(H, dtype='double')  # Ensure H is double type\n",
    "\n",
    "    # Convert to cvxopt matrix\n",
    "    P = matrix(H)\n",
    "    q = matrix(-np.ones((m, 1), dtype='double'))\n",
    "    G = matrix(-np.eye(m))  # G = -I\n",
    "    h = matrix(np.zeros((m, 1), dtype='double'))\n",
    "    A = matrix(y.T, (1, m), 'd')\n",
    "    b = matrix(0.0)\n",
    "\n",
    "    # Solver options\n",
    "    solvers.options['show_progress'] = False  # Suppress solver output\n",
    "    solvers.options['maxiters'] = 1000  # Maximum iterations\n",
    "\n",
    "    # Solve the quadratic programming problem\n",
    "    solution = solvers.qp(P, q, G, h, A, b)\n",
    "    alphas = np.array(solution['x']).flatten()\n",
    "    return alphas\n",
    "\n",
    "def train_svm(x_train, y_train, max_iters=1000):\n",
    "    x = np.array(x_train)\n",
    "    y = np.array(y_train)\n",
    "\n",
    "    # Ensure labels are in the correct format (-1, 1)\n",
    "    y = adjust_labels(y)\n",
    "\n",
    "    # Compute alpha values\n",
    "    alphas = getalpha(x, y, max_iters)\n",
    "\n",
    "    # Identify support vectors\n",
    "    tol = 1e-4\n",
    "    support_indices = alphas > tol\n",
    "    support_vectors = x[support_indices]\n",
    "    support_labels = y[support_indices].flatten()\n",
    "    support_alphas = alphas[support_indices]\n",
    "\n",
    "    # Calculate weights\n",
    "    w = np.sum((support_alphas * support_labels).reshape(-1, 1) * support_vectors, axis=0)\n",
    "\n",
    "    # Calculate bias\n",
    "    b = np.mean(support_labels - np.dot(support_vectors, w))\n",
    "\n",
    "    return w, b, support_vectors, support_labels, support_alphas\n",
    "\n",
    "def predict_svm(x_test, w, b):\n",
    "    return np.sign(np.dot(x_test, w) + b)\n",
    "\n",
    "def evaluate_accuracy(y_true, y_pred):\n",
    "    return np.mean(y_true == y_pred) * 100\n",
    "\n",
    "# Example Usage\n",
    "if __name__ == \"__main__\":\n",
    "\n",
    "    # Feature scaling\n",
    "    scaler = StandardScaler()\n",
    "    X_train = scaler.fit_transform(X_train)\n",
    "    X_test = scaler.transform(X_test)\n",
    "\n",
    "    # Train the SVM\n",
    "    w, b, support_vectors, support_labels, support_alphas = train_svm(X_train[:1600], y_train[:1600])\n",
    "\n",
    "    # Test the SVM\n",
    "    y_pred = predict_svm(X_test[:200], w, b)\n",
    "\n",
    "    # Evaluate Performance\n",
    "    accuracy = evaluate_accuracy(y_test[:200], y_pred)\n",
    "    print(f\"Accuracy: {accuracy:.2f}%\")"
   ]
  },
  {
   "cell_type": "code",
   "execution_count": null,
   "metadata": {},
   "outputs": [],
   "source": []
  }
 ],
 "metadata": {
  "kernelspec": {
   "display_name": "Python 3",
   "language": "python",
   "name": "python3"
  },
  "language_info": {
   "codemirror_mode": {
    "name": "ipython",
    "version": 3
   },
   "file_extension": ".py",
   "mimetype": "text/x-python",
   "name": "python",
   "nbconvert_exporter": "python",
   "pygments_lexer": "ipython3",
   "version": "3.12.3"
  }
 },
 "nbformat": 4,
 "nbformat_minor": 2
}
