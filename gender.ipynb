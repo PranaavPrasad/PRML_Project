{
 "cells": [
  {
   "cell_type": "markdown",
   "metadata": {},
   "source": [
    "## Gender Classification"
   ]
  },
  {
   "cell_type": "markdown",
   "metadata": {},
   "source": [
    "### Model - PCA and SVM"
   ]
  },
  {
   "cell_type": "markdown",
   "metadata": {},
   "source": [
    "### Input - Images"
   ]
  },
  {
   "cell_type": "code",
   "execution_count": null,
   "metadata": {},
   "outputs": [],
   "source": [
    "import dlib\n",
    "import numpy as np\n",
    "import pandas as pd\n",
    "import matplotlib.pyplot as plt\n",
    "import pickle\n",
    "from sklearn.svm import SVC\n",
    "from sklearn.model_selection import train_test_split\n",
    "from sklearn.metrics import accuracy_score"
   ]
  },
  {
   "cell_type": "code",
   "execution_count": null,
   "metadata": {},
   "outputs": [],
   "source": [
    "# uncomment it for your first try\n",
    "# ! wget http://dlib.net/files/shape_predictor_68_face_landmarks.dat.bz2\n",
    "# ! bzip2 -d shape_predictor_68_face_landmarks.dat.bz2"
   ]
  },
  {
   "cell_type": "code",
   "execution_count": null,
   "metadata": {},
   "outputs": [],
   "source": [
    "# Read the DataFrame from the pickle file\n",
    "with open('custom_dataset.pkl', 'rb') as f:\n",
    "    loaded_df = pickle.load(f)"
   ]
  },
  {
   "cell_type": "code",
   "execution_count": null,
   "metadata": {},
   "outputs": [],
   "source": [
    "# Convert the list to a 2D matrix of shape (512, 512)\n",
    "loaded_df['image_front_data'] = loaded_df['image_front_data'].apply(lambda x: np.array(x).reshape(512, 512))\n",
    "loaded_df['image_side_data'] = loaded_df['image_side_data'].apply(lambda x: np.array(x).reshape(512, 512))"
   ]
  },
  {
   "cell_type": "code",
   "execution_count": null,
   "metadata": {},
   "outputs": [],
   "source": [
    "loaded_df.head()"
   ]
  },
  {
   "cell_type": "code",
   "execution_count": null,
   "metadata": {},
   "outputs": [],
   "source": [
    "loaded_df.info()"
   ]
  },
  {
   "cell_type": "code",
   "execution_count": null,
   "metadata": {},
   "outputs": [],
   "source": [
    "# Load face detector and landmark predictor\n",
    "detector = dlib.get_frontal_face_detector()\n",
    "predictor = dlib.shape_predictor(\"shape_predictor_68_face_landmarks.dat\")"
   ]
  },
  {
   "cell_type": "code",
   "execution_count": null,
   "metadata": {},
   "outputs": [],
   "source": [
    "temp = pd.DataFrame()"
   ]
  },
  {
   "cell_type": "code",
   "execution_count": null,
   "metadata": {},
   "outputs": [],
   "source": [
    "labels = []"
   ]
  },
  {
   "cell_type": "code",
   "execution_count": null,
   "metadata": {},
   "outputs": [],
   "source": [
    "for i in range(len(loaded_df)):\n",
    "    image = loaded_df['image_front_data'].iloc[i]\n",
    "\n",
    "    # Detect faces\n",
    "    faces = detector(image)\n",
    "    \n",
    "    if not faces:\n",
    "        print('No face detected :',loaded_df['id'].iloc[i])\n",
    "        continue\n",
    "\n",
    "    landmarks = predictor(image, faces[0])\n",
    "\n",
    "    if not landmarks:\n",
    "        print('No landmarks detected :',loaded_df['id'].iloc[i])\n",
    "        continue\n",
    "        \n",
    "    feature = []\n",
    "    for coord in range(68):\n",
    "        x_coord = landmarks.part(coord).x\n",
    "        y_coord = landmarks.part(coord).y\n",
    "        feature.append(x_coord)\n",
    "        feature.append(y_coord)\n",
    "        \n",
    "    temp = pd.concat([temp, pd.DataFrame([feature])], ignore_index=True)\n",
    "    if(loaded_df['sex'].iloc[i] == 'Male'):\n",
    "        labels.append(0)\n",
    "    else:\n",
    "        labels.append(1)"
   ]
  },
  {
   "cell_type": "code",
   "execution_count": null,
   "metadata": {},
   "outputs": [],
   "source": [
    "labels.count(0), labels.count(1)"
   ]
  },
  {
   "cell_type": "code",
   "execution_count": null,
   "metadata": {},
   "outputs": [],
   "source": [
    "temp.head()"
   ]
  },
  {
   "cell_type": "code",
   "execution_count": null,
   "metadata": {},
   "outputs": [],
   "source": [
    "temp.shape"
   ]
  },
  {
   "cell_type": "code",
   "execution_count": null,
   "metadata": {},
   "outputs": [],
   "source": [
    "def PCA(dataset):\n",
    "    mean = np.mean(dataset, axis=0)\n",
    "    z = dataset - mean\n",
    "    cov_matrix = (1/len(dataset)) * (z.T).dot(z)\n",
    "    eig_values, eig_vectors = np.linalg.eig(cov_matrix)\n",
    "    eig_pairs = [(eig_values[i], eig_vectors[:,i]) for i in range(len(eig_values))]\n",
    "    eig_pairs.sort(key=lambda x: x[0], reverse=True)\n",
    "\n",
    "    sorted_eigvalues = [eig_pairs[i][0] for i in range(len(eig_values))]\n",
    "    sorted_eigvectors = np.array([eig_pairs[i][1] for i in range(len(eig_values))])\n",
    "\n",
    "    cumulative_variance = np.cumsum(sorted_eigvalues) / np.sum(sorted_eigvalues)\n",
    "    plt.plot(cumulative_variance)\n",
    "    plt.xlabel('Number of Principal Components')\n",
    "    plt.ylabel('Cumulative Variance')\n",
    "    plt.title('Cumulative Variance vs Number of Principal Components')\n",
    "    plt.show()\n",
    "\n",
    "    n_components = np.argmax(cumulative_variance > 0.99) + 1\n",
    "\n",
    "    print('Number of Principal Components required:', n_components)\n",
    "\n",
    "    W = sorted_eigvectors[:, :20]\n",
    "    print('Shape of W:', W.shape)\n",
    "\n",
    "    dataset_pca = z.dot(W)\n",
    "    print('Shape of Reduced Dataset:', dataset_pca.shape)\n",
    "    return W, dataset_pca, mean"
   ]
  },
  {
   "cell_type": "code",
   "execution_count": null,
   "metadata": {},
   "outputs": [],
   "source": [
    "W, dataset_reduced, mean = PCA(np.array(temp))"
   ]
  },
  {
   "cell_type": "code",
   "execution_count": null,
   "metadata": {},
   "outputs": [],
   "source": [
    "# perform svm on the reduced dataset and labels\n",
    "\n",
    "X_train, X_test, y_train, y_test = train_test_split(dataset_reduced, labels, test_size=0.2, random_state=42)\n",
    "\n",
    "clf = SVC(kernel='linear')\n",
    "clf.fit(X_train, y_train)\n",
    "\n",
    "y_pred = clf.predict(X_test)\n",
    "accuracy = accuracy_score(y_test, y_pred)\n",
    "print('Accuracy:', accuracy)"
   ]
  },
  {
   "cell_type": "code",
   "execution_count": null,
   "metadata": {},
   "outputs": [],
   "source": [
    "# perform svm on the original dataset and labels\n",
    "X_train, X_test, y_train, y_test = train_test_split(temp, labels, test_size=0.2, random_state=42)\n",
    "\n",
    "clf = SVC(kernel='linear')\n",
    "clf.fit(X_train, y_train)\n",
    "\n",
    "y_pred = clf.predict(X_test)\n",
    "accuracy = accuracy_score(y_test, y_pred)\n",
    "print('Accuracy:', accuracy)"
   ]
  }
 ],
 "metadata": {
  "kernelspec": {
   "display_name": "Python 3",
   "language": "python",
   "name": "python3"
  },
  "language_info": {
   "codemirror_mode": {
    "name": "ipython",
    "version": 3
   },
   "file_extension": ".py",
   "mimetype": "text/x-python",
   "name": "python",
   "nbconvert_exporter": "python",
   "pygments_lexer": "ipython3",
   "version": "3.8.10"
  }
 },
 "nbformat": 4,
 "nbformat_minor": 2
}
