{
 "cells": [
  {
   "cell_type": "markdown",
   "metadata": {},
   "source": [
    "## Creating Custom Dataset"
   ]
  },
  {
   "cell_type": "markdown",
   "metadata": {},
   "source": [
    "Source : https://academictorrents.com/details/4b9b7e449aa732842aea1a7d4e6413f4507aea99"
   ]
  },
  {
   "cell_type": "markdown",
   "metadata": {},
   "source": [
    "CSV file used : persons.csv\n",
    "\n",
    "Images : front and side images of inmates"
   ]
  },
  {
   "cell_type": "markdown",
   "metadata": {},
   "source": [
    "Customizing the online dataset tp create a custom dataset for the project. \n",
    "- `id` coloumn for identifying the inmates.\n",
    "\n",
    "- `sex` coloumn for groud truth values in Gender Classification. \n",
    "\n",
    "- `bmi` coloumn which is calculated using the formula `BMI = weight(kg) / height(m)^2` for groud truth values in BMI Classification.\n",
    "\n",
    "- `image_front_data` and `image_side_data` coloumns for the images of the inmates."
   ]
  },
  {
   "cell_type": "markdown",
   "metadata": {},
   "source": [
    "The custom dataset is saved as a pickle file for further use."
   ]
  },
  {
   "cell_type": "markdown",
   "metadata": {},
   "source": [
    "## Loading sex, weight, height and bmi"
   ]
  },
  {
   "cell_type": "code",
   "execution_count": 1,
   "metadata": {},
   "outputs": [],
   "source": [
    "import pandas as pd\n",
    "import numpy as np"
   ]
  },
  {
   "cell_type": "markdown",
   "metadata": {},
   "source": [
    "Loading person dataset to include weight, height and sex."
   ]
  },
  {
   "cell_type": "code",
   "execution_count": 2,
   "metadata": {},
   "outputs": [
    {
     "name": "stdout",
     "output_type": "stream",
     "text": [
      "<class 'pandas.core.frame.DataFrame'>\n",
      "RangeIndex: 61110 entries, 0 to 61109\n",
      "Data columns (total 22 columns):\n",
      " #   Column                          Non-Null Count  Dtype  \n",
      "---  ------                          --------------  -----  \n",
      " 0   id                              61110 non-null  object \n",
      " 1   name                            61110 non-null  object \n",
      " 2   date_of_birth                   61096 non-null  object \n",
      " 3   weight                          60716 non-null  float64\n",
      " 4   hair                            61109 non-null  object \n",
      " 5   sex                             61109 non-null  object \n",
      " 6   height                          60728 non-null  float64\n",
      " 7   race                            61106 non-null  object \n",
      " 8   eyes                            61109 non-null  object \n",
      " 9   admission_date                  61109 non-null  object \n",
      " 10  projected_parole_date           33932 non-null  object \n",
      " 11  last_paroled_date               8474 non-null   object \n",
      " 12  projected_discharge_date        61095 non-null  object \n",
      " 13  parole_date                     25549 non-null  object \n",
      " 14  electronic_detention_date       4 non-null      object \n",
      " 15  discharge_date                  0 non-null      float64\n",
      " 16  parent_institution              61109 non-null  object \n",
      " 17  offender_status                 61109 non-null  object \n",
      " 18  location                        60759 non-null  object \n",
      " 19  sex_offender_registry_required  7422 non-null   object \n",
      " 20  alias                           158 non-null    object \n",
      " 21  Unnamed: 21                     0 non-null      float64\n",
      "dtypes: float64(4), object(18)\n",
      "memory usage: 10.3+ MB\n"
     ]
    }
   ],
   "source": [
    "df = pd.read_csv('illinois_doc_dataset/illinois_doc_dataset/csv/person.csv', sep=';')\n",
    "df.info()"
   ]
  },
  {
   "cell_type": "markdown",
   "metadata": {},
   "source": [
    "Creating custom dataframe using existing dataset.<br>\n",
    "Converting weight and height to kilogram and meter respectively."
   ]
  },
  {
   "cell_type": "code",
   "execution_count": 3,
   "metadata": {},
   "outputs": [
    {
     "data": {
      "text/html": [
       "<div>\n",
       "<style scoped>\n",
       "    .dataframe tbody tr th:only-of-type {\n",
       "        vertical-align: middle;\n",
       "    }\n",
       "\n",
       "    .dataframe tbody tr th {\n",
       "        vertical-align: top;\n",
       "    }\n",
       "\n",
       "    .dataframe thead th {\n",
       "        text-align: right;\n",
       "    }\n",
       "</style>\n",
       "<table border=\"1\" class=\"dataframe\">\n",
       "  <thead>\n",
       "    <tr style=\"text-align: right;\">\n",
       "      <th></th>\n",
       "      <th>id</th>\n",
       "      <th>sex</th>\n",
       "      <th>weight</th>\n",
       "      <th>height</th>\n",
       "    </tr>\n",
       "  </thead>\n",
       "  <tbody>\n",
       "    <tr>\n",
       "      <th>0</th>\n",
       "      <td>A00147</td>\n",
       "      <td>Male</td>\n",
       "      <td>83.914520</td>\n",
       "      <td>1.7018</td>\n",
       "    </tr>\n",
       "    <tr>\n",
       "      <th>1</th>\n",
       "      <td>A00220</td>\n",
       "      <td>Male</td>\n",
       "      <td>70.306760</td>\n",
       "      <td>1.8542</td>\n",
       "    </tr>\n",
       "    <tr>\n",
       "      <th>2</th>\n",
       "      <td>A00360</td>\n",
       "      <td>Male</td>\n",
       "      <td>75.749864</td>\n",
       "      <td>1.7526</td>\n",
       "    </tr>\n",
       "    <tr>\n",
       "      <th>3</th>\n",
       "      <td>A00367</td>\n",
       "      <td>Male</td>\n",
       "      <td>111.130040</td>\n",
       "      <td>1.8288</td>\n",
       "    </tr>\n",
       "    <tr>\n",
       "      <th>4</th>\n",
       "      <td>A01054</td>\n",
       "      <td>Male</td>\n",
       "      <td>75.296272</td>\n",
       "      <td>1.7018</td>\n",
       "    </tr>\n",
       "  </tbody>\n",
       "</table>\n",
       "</div>"
      ],
      "text/plain": [
       "       id   sex      weight  height\n",
       "0  A00147  Male   83.914520  1.7018\n",
       "1  A00220  Male   70.306760  1.8542\n",
       "2  A00360  Male   75.749864  1.7526\n",
       "3  A00367  Male  111.130040  1.8288\n",
       "4  A01054  Male   75.296272  1.7018"
      ]
     },
     "execution_count": 3,
     "metadata": {},
     "output_type": "execute_result"
    }
   ],
   "source": [
    "custom_df = df[['id', 'sex', 'weight', 'height']]\n",
    "custom_df.eval('weight = weight * 0.453592', inplace=True)\n",
    "custom_df.eval('height = height * 0.0254', inplace=True)\n",
    "custom_df.head()"
   ]
  },
  {
   "cell_type": "markdown",
   "metadata": {},
   "source": [
    "Calculating BMI."
   ]
  },
  {
   "cell_type": "code",
   "execution_count": 4,
   "metadata": {},
   "outputs": [
    {
     "name": "stderr",
     "output_type": "stream",
     "text": [
      "/tmp/ipykernel_1052727/1762545910.py:1: SettingWithCopyWarning: \n",
      "A value is trying to be set on a copy of a slice from a DataFrame.\n",
      "Try using .loc[row_indexer,col_indexer] = value instead\n",
      "\n",
      "See the caveats in the documentation: https://pandas.pydata.org/pandas-docs/stable/user_guide/indexing.html#returning-a-view-versus-a-copy\n",
      "  custom_df.eval('bmi = weight / height ** 2', inplace=True)\n"
     ]
    },
    {
     "data": {
      "text/html": [
       "<div>\n",
       "<style scoped>\n",
       "    .dataframe tbody tr th:only-of-type {\n",
       "        vertical-align: middle;\n",
       "    }\n",
       "\n",
       "    .dataframe tbody tr th {\n",
       "        vertical-align: top;\n",
       "    }\n",
       "\n",
       "    .dataframe thead th {\n",
       "        text-align: right;\n",
       "    }\n",
       "</style>\n",
       "<table border=\"1\" class=\"dataframe\">\n",
       "  <thead>\n",
       "    <tr style=\"text-align: right;\">\n",
       "      <th></th>\n",
       "      <th>id</th>\n",
       "      <th>sex</th>\n",
       "      <th>weight</th>\n",
       "      <th>height</th>\n",
       "      <th>bmi</th>\n",
       "    </tr>\n",
       "  </thead>\n",
       "  <tbody>\n",
       "    <tr>\n",
       "      <th>0</th>\n",
       "      <td>A00147</td>\n",
       "      <td>Male</td>\n",
       "      <td>83.91</td>\n",
       "      <td>1.70</td>\n",
       "      <td>28.97</td>\n",
       "    </tr>\n",
       "    <tr>\n",
       "      <th>1</th>\n",
       "      <td>A00220</td>\n",
       "      <td>Male</td>\n",
       "      <td>70.31</td>\n",
       "      <td>1.85</td>\n",
       "      <td>20.45</td>\n",
       "    </tr>\n",
       "    <tr>\n",
       "      <th>2</th>\n",
       "      <td>A00360</td>\n",
       "      <td>Male</td>\n",
       "      <td>75.75</td>\n",
       "      <td>1.75</td>\n",
       "      <td>24.66</td>\n",
       "    </tr>\n",
       "    <tr>\n",
       "      <th>3</th>\n",
       "      <td>A00367</td>\n",
       "      <td>Male</td>\n",
       "      <td>111.13</td>\n",
       "      <td>1.83</td>\n",
       "      <td>33.23</td>\n",
       "    </tr>\n",
       "    <tr>\n",
       "      <th>4</th>\n",
       "      <td>A01054</td>\n",
       "      <td>Male</td>\n",
       "      <td>75.30</td>\n",
       "      <td>1.70</td>\n",
       "      <td>26.00</td>\n",
       "    </tr>\n",
       "  </tbody>\n",
       "</table>\n",
       "</div>"
      ],
      "text/plain": [
       "       id   sex  weight  height    bmi\n",
       "0  A00147  Male   83.91    1.70  28.97\n",
       "1  A00220  Male   70.31    1.85  20.45\n",
       "2  A00360  Male   75.75    1.75  24.66\n",
       "3  A00367  Male  111.13    1.83  33.23\n",
       "4  A01054  Male   75.30    1.70  26.00"
      ]
     },
     "execution_count": 4,
     "metadata": {},
     "output_type": "execute_result"
    }
   ],
   "source": [
    "custom_df.eval('bmi = weight / height ** 2', inplace=True)\n",
    "custom_df = custom_df.round(2)\n",
    "custom_df.head()"
   ]
  },
  {
   "cell_type": "markdown",
   "metadata": {},
   "source": [
    "Dropping weight and height"
   ]
  },
  {
   "cell_type": "code",
   "execution_count": 5,
   "metadata": {},
   "outputs": [
    {
     "data": {
      "text/html": [
       "<div>\n",
       "<style scoped>\n",
       "    .dataframe tbody tr th:only-of-type {\n",
       "        vertical-align: middle;\n",
       "    }\n",
       "\n",
       "    .dataframe tbody tr th {\n",
       "        vertical-align: top;\n",
       "    }\n",
       "\n",
       "    .dataframe thead th {\n",
       "        text-align: right;\n",
       "    }\n",
       "</style>\n",
       "<table border=\"1\" class=\"dataframe\">\n",
       "  <thead>\n",
       "    <tr style=\"text-align: right;\">\n",
       "      <th></th>\n",
       "      <th>id</th>\n",
       "      <th>sex</th>\n",
       "      <th>bmi</th>\n",
       "    </tr>\n",
       "  </thead>\n",
       "  <tbody>\n",
       "    <tr>\n",
       "      <th>0</th>\n",
       "      <td>A00147</td>\n",
       "      <td>Male</td>\n",
       "      <td>28.97</td>\n",
       "    </tr>\n",
       "    <tr>\n",
       "      <th>1</th>\n",
       "      <td>A00220</td>\n",
       "      <td>Male</td>\n",
       "      <td>20.45</td>\n",
       "    </tr>\n",
       "    <tr>\n",
       "      <th>2</th>\n",
       "      <td>A00360</td>\n",
       "      <td>Male</td>\n",
       "      <td>24.66</td>\n",
       "    </tr>\n",
       "    <tr>\n",
       "      <th>3</th>\n",
       "      <td>A00367</td>\n",
       "      <td>Male</td>\n",
       "      <td>33.23</td>\n",
       "    </tr>\n",
       "    <tr>\n",
       "      <th>4</th>\n",
       "      <td>A01054</td>\n",
       "      <td>Male</td>\n",
       "      <td>26.00</td>\n",
       "    </tr>\n",
       "  </tbody>\n",
       "</table>\n",
       "</div>"
      ],
      "text/plain": [
       "       id   sex    bmi\n",
       "0  A00147  Male  28.97\n",
       "1  A00220  Male  20.45\n",
       "2  A00360  Male  24.66\n",
       "3  A00367  Male  33.23\n",
       "4  A01054  Male  26.00"
      ]
     },
     "execution_count": 5,
     "metadata": {},
     "output_type": "execute_result"
    }
   ],
   "source": [
    "custom_df = custom_df.drop(['weight', 'height'], axis=1)\n",
    "custom_df.head()"
   ]
  },
  {
   "cell_type": "markdown",
   "metadata": {},
   "source": [
    "## Loading images of face."
   ]
  },
  {
   "cell_type": "code",
   "execution_count": 6,
   "metadata": {},
   "outputs": [],
   "source": [
    "import os\n",
    "import cv2\n",
    "import pickle"
   ]
  },
  {
   "cell_type": "markdown",
   "metadata": {},
   "source": [
    "Couting no of females and males in the dataset."
   ]
  },
  {
   "cell_type": "code",
   "execution_count": 7,
   "metadata": {},
   "outputs": [
    {
     "name": "stdout",
     "output_type": "stream",
     "text": [
      "Male count: 57341\n",
      "Female count: 3768\n"
     ]
    }
   ],
   "source": [
    "male_count = df[df['sex'] == 'Male'].shape[0]\n",
    "female_count = df[df['sex'] == 'Female'].shape[0]\n",
    "\n",
    "print(f\"Male count: {male_count}\")\n",
    "print(f\"Female count: {female_count}\")"
   ]
  },
  {
   "cell_type": "markdown",
   "metadata": {},
   "source": [
    "Loading front face.\n",
    "\n",
    "Adding front face data only if the image exists and the corresponding id is also present.\n",
    "\n",
    "Taking all female and 4000 males"
   ]
  },
  {
   "cell_type": "code",
   "execution_count": 8,
   "metadata": {},
   "outputs": [
    {
     "name": "stdout",
     "output_type": "stream",
     "text": [
      "Warning: Unable to read image file illinois_doc_dataset/illinois_doc_dataset/front/front/K85127.jpg\n",
      "Warning: Unable to read image file illinois_doc_dataset/illinois_doc_dataset/front/front/S11520.jpg\n",
      "Warning: Unable to read image file illinois_doc_dataset/illinois_doc_dataset/front/front/M54237.jpg\n",
      "Warning: Unable to read image file illinois_doc_dataset/illinois_doc_dataset/front/front/X78593.jpg\n",
      "Warning: Unable to read image file illinois_doc_dataset/illinois_doc_dataset/front/front/Y20243.jpg\n",
      "Warning: Unable to read image file illinois_doc_dataset/illinois_doc_dataset/front/front/X76976.jpg\n",
      "Warning: Unable to read image file illinois_doc_dataset/illinois_doc_dataset/front/front/X78222.jpg\n",
      "Warning: Unable to read image file illinois_doc_dataset/illinois_doc_dataset/front/front/M31444.jpg\n",
      "Warning: Unable to read image file illinois_doc_dataset/illinois_doc_dataset/front/front/X78055.jpg\n",
      "Warning: Unable to read image file illinois_doc_dataset/illinois_doc_dataset/front/front/B66533.jpg\n",
      "Warning: Unable to read image file illinois_doc_dataset/illinois_doc_dataset/front/front/N97269.jpg\n",
      "Warning: Unable to read image file illinois_doc_dataset/illinois_doc_dataset/front/front/M55193.jpg\n",
      "Warning: Unable to read image file illinois_doc_dataset/illinois_doc_dataset/front/front/X78586.jpg\n",
      "Warning: Unable to read image file illinois_doc_dataset/illinois_doc_dataset/front/front/X62757.jpg\n",
      "Warning: Unable to read image file illinois_doc_dataset/illinois_doc_dataset/front/front/X78264.jpg\n",
      "Warning: Unable to read image file illinois_doc_dataset/illinois_doc_dataset/front/front/X78572.jpg\n",
      "Warning: Unable to read image file illinois_doc_dataset/illinois_doc_dataset/front/front/X78859.jpg\n",
      "Warning: Unable to read image file illinois_doc_dataset/illinois_doc_dataset/front/front/X78981.jpg\n",
      "Warning: Unable to read image file illinois_doc_dataset/illinois_doc_dataset/front/front/X78975.jpg\n",
      "Warning: Unable to read image file illinois_doc_dataset/illinois_doc_dataset/front/front/X76935.jpg\n",
      "Warning: Unable to read image file illinois_doc_dataset/illinois_doc_dataset/front/front/X77471.jpg\n",
      "Warning: Unable to read image file illinois_doc_dataset/illinois_doc_dataset/front/front/X77709.jpg\n",
      "Warning: Unable to read image file illinois_doc_dataset/illinois_doc_dataset/front/front/X77625.jpg\n",
      "Warning: Unable to read image file illinois_doc_dataset/illinois_doc_dataset/front/front/X79073.jpg\n",
      "Warning: Unable to read image file illinois_doc_dataset/illinois_doc_dataset/front/front/X78198.jpg\n",
      "Warning: Unable to read image file illinois_doc_dataset/illinois_doc_dataset/front/front/X78184.jpg\n",
      "Warning: Unable to read image file illinois_doc_dataset/illinois_doc_dataset/front/front/X78941.jpg\n",
      "Warning: Unable to read image file illinois_doc_dataset/illinois_doc_dataset/front/front/X79040.jpg\n",
      "Warning: Unable to read image file illinois_doc_dataset/illinois_doc_dataset/front/front/M44446.jpg\n",
      "Warning: Unable to read image file illinois_doc_dataset/illinois_doc_dataset/front/front/R92134.jpg\n",
      "Warning: Unable to read image file illinois_doc_dataset/illinois_doc_dataset/front/front/B13502.jpg\n",
      "Warning: Unable to read image file illinois_doc_dataset/illinois_doc_dataset/front/front/X77454.jpg\n",
      "Warning: Unable to read image file illinois_doc_dataset/illinois_doc_dataset/front/front/X74237.jpg\n",
      "Warning: Unable to read image file illinois_doc_dataset/illinois_doc_dataset/front/front/X72804.jpg\n",
      "Warning: Unable to read image file illinois_doc_dataset/illinois_doc_dataset/front/front/Y22777.jpg\n",
      "Warning: Unable to read image file illinois_doc_dataset/illinois_doc_dataset/front/front/X78736.jpg\n",
      "Warning: Unable to read image file illinois_doc_dataset/illinois_doc_dataset/front/front/X78844.jpg\n",
      "Warning: Unable to read image file illinois_doc_dataset/illinois_doc_dataset/front/front/N20007.jpg\n",
      "Warning: Unable to read image file illinois_doc_dataset/illinois_doc_dataset/front/front/X77855.jpg\n",
      "Warning: Unable to read image file illinois_doc_dataset/illinois_doc_dataset/front/front/M38333.jpg\n",
      "Warning: Unable to read image file illinois_doc_dataset/illinois_doc_dataset/front/front/X78636.jpg\n",
      "Warning: Unable to read image file illinois_doc_dataset/illinois_doc_dataset/front/front/N73737.jpg\n",
      "Warning: Unable to read image file illinois_doc_dataset/illinois_doc_dataset/front/front/X78294.jpg\n",
      "Warning: Unable to read image file illinois_doc_dataset/illinois_doc_dataset/front/front/X78409.jpg\n",
      "Warning: Unable to read image file illinois_doc_dataset/illinois_doc_dataset/front/front/X78903.jpg\n",
      "Warning: Unable to read image file illinois_doc_dataset/illinois_doc_dataset/front/front/X78698.jpg\n",
      "Warning: Unable to read image file illinois_doc_dataset/illinois_doc_dataset/front/front/X78271.jpg\n",
      "Warning: Unable to read image file illinois_doc_dataset/illinois_doc_dataset/front/front/X77824.jpg\n",
      "Warning: Unable to read image file illinois_doc_dataset/illinois_doc_dataset/front/front/X77926.jpg\n",
      "Warning: Unable to read image file illinois_doc_dataset/illinois_doc_dataset/front/front/X78997.jpg\n",
      "Warning: Unable to read image file illinois_doc_dataset/illinois_doc_dataset/front/front/Y18270.jpg\n",
      "Warning: Unable to read image file illinois_doc_dataset/illinois_doc_dataset/front/front/X78945.jpg\n",
      "Warning: Unable to read image file illinois_doc_dataset/illinois_doc_dataset/front/front/X79070.jpg\n",
      "Warning: Unable to read image file illinois_doc_dataset/illinois_doc_dataset/front/front/A93211.jpg\n",
      "Warning: Unable to read image file illinois_doc_dataset/illinois_doc_dataset/front/front/X78692.jpg\n",
      "Warning: Unable to read image file illinois_doc_dataset/illinois_doc_dataset/front/front/X74551.jpg\n",
      "Warning: Unable to read image file illinois_doc_dataset/illinois_doc_dataset/front/front/X78440.jpg\n",
      "Warning: Unable to read image file illinois_doc_dataset/illinois_doc_dataset/front/front/R92135.jpg\n",
      "Warning: Unable to read image file illinois_doc_dataset/illinois_doc_dataset/front/front/X79074.jpg\n",
      "Warning: Unable to read image file illinois_doc_dataset/illinois_doc_dataset/front/front/X79081.jpg\n",
      "Warning: Unable to read image file illinois_doc_dataset/illinois_doc_dataset/front/front/X78682.jpg\n",
      "Warning: Unable to read image file illinois_doc_dataset/illinois_doc_dataset/front/front/C06586.jpg\n",
      "Warning: Unable to read image file illinois_doc_dataset/illinois_doc_dataset/front/front/X78650.jpg\n",
      "Warning: Unable to read image file illinois_doc_dataset/illinois_doc_dataset/front/front/X78369.jpg\n",
      "Warning: Unable to read image file illinois_doc_dataset/illinois_doc_dataset/front/front/X78762.jpg\n",
      "Warning: Unable to read image file illinois_doc_dataset/illinois_doc_dataset/front/front/X77865.jpg\n",
      "Warning: Unable to read image file illinois_doc_dataset/illinois_doc_dataset/front/front/X79032.jpg\n",
      "Warning: Unable to read image file illinois_doc_dataset/illinois_doc_dataset/front/front/X77955.jpg\n",
      "Warning: Unable to read image file illinois_doc_dataset/illinois_doc_dataset/front/front/X76975.jpg\n",
      "Warning: Unable to read image file illinois_doc_dataset/illinois_doc_dataset/front/front/X78112.jpg\n",
      "Warning: Unable to read image file illinois_doc_dataset/illinois_doc_dataset/front/front/X79020.jpg\n",
      "Warning: Unable to read image file illinois_doc_dataset/illinois_doc_dataset/front/front/X76282.jpg\n",
      "Warning: Unable to read image file illinois_doc_dataset/illinois_doc_dataset/front/front/R91811.jpg\n",
      "Warning: Unable to read image file illinois_doc_dataset/illinois_doc_dataset/front/front/X78655.jpg\n",
      "Warning: Unable to read image file illinois_doc_dataset/illinois_doc_dataset/front/front/M41199.jpg\n",
      "Warning: Unable to read image file illinois_doc_dataset/illinois_doc_dataset/front/front/Y22386.jpg\n",
      "Warning: Unable to read image file illinois_doc_dataset/illinois_doc_dataset/front/front/X78777.jpg\n",
      "Warning: Unable to read image file illinois_doc_dataset/illinois_doc_dataset/front/front/X78179.jpg\n",
      "Warning: Unable to read image file illinois_doc_dataset/illinois_doc_dataset/front/front/X78866.jpg\n",
      "Warning: Unable to read image file illinois_doc_dataset/illinois_doc_dataset/front/front/X78577.jpg\n",
      "Warning: Unable to read image file illinois_doc_dataset/illinois_doc_dataset/front/front/X78846.jpg\n",
      "Warning: Unable to read image file illinois_doc_dataset/illinois_doc_dataset/front/front/R91659.jpg\n",
      "Warning: Unable to read image file illinois_doc_dataset/illinois_doc_dataset/front/front/X78180.jpg\n",
      "Warning: Unable to read image file illinois_doc_dataset/illinois_doc_dataset/front/front/X78994.jpg\n",
      "Warning: Unable to read image file illinois_doc_dataset/illinois_doc_dataset/front/front/X73057.jpg\n",
      "Warning: Unable to read image file illinois_doc_dataset/illinois_doc_dataset/front/front/X78881.jpg\n",
      "Warning: Unable to read image file illinois_doc_dataset/illinois_doc_dataset/front/front/X78854.jpg\n",
      "Warning: Unable to read image file illinois_doc_dataset/illinois_doc_dataset/front/front/X78616.jpg\n",
      "Warning: Unable to read image file illinois_doc_dataset/illinois_doc_dataset/front/front/X76305.jpg\n",
      "Warning: Unable to read image file illinois_doc_dataset/illinois_doc_dataset/front/front/X79057.jpg\n",
      "Warning: Unable to read image file illinois_doc_dataset/illinois_doc_dataset/front/front/X77336.jpg\n",
      "Warning: Unable to read image file illinois_doc_dataset/illinois_doc_dataset/front/front/X77663.jpg\n",
      "Warning: Unable to read image file illinois_doc_dataset/illinois_doc_dataset/front/front/X77113.jpg\n",
      "Warning: Unable to read image file illinois_doc_dataset/illinois_doc_dataset/front/front/X72256.jpg\n",
      "Warning: Unable to read image file illinois_doc_dataset/illinois_doc_dataset/front/front/X78907.jpg\n",
      "Warning: Unable to read image file illinois_doc_dataset/illinois_doc_dataset/front/front/X78048.jpg\n",
      "Warning: Unable to read image file illinois_doc_dataset/illinois_doc_dataset/front/front/X76748.jpg\n",
      "Warning: Unable to read image file illinois_doc_dataset/illinois_doc_dataset/front/front/X73426.jpg\n",
      "Warning: Unable to read image file illinois_doc_dataset/illinois_doc_dataset/front/front/X78263.jpg\n",
      "Warning: Unable to read image file illinois_doc_dataset/illinois_doc_dataset/front/front/X78818.jpg\n",
      "Warning: Unable to read image file illinois_doc_dataset/illinois_doc_dataset/front/front/X74563.jpg\n",
      "Warning: Unable to read image file illinois_doc_dataset/illinois_doc_dataset/front/front/X78475.jpg\n",
      "Warning: Unable to read image file illinois_doc_dataset/illinois_doc_dataset/front/front/X78127.jpg\n",
      "Warning: Unable to read image file illinois_doc_dataset/illinois_doc_dataset/front/front/X78581.jpg\n",
      "Warning: Unable to read image file illinois_doc_dataset/illinois_doc_dataset/front/front/X78558.jpg\n",
      "Warning: Unable to read image file illinois_doc_dataset/illinois_doc_dataset/front/front/X78983.jpg\n",
      "Warning: Unable to read image file illinois_doc_dataset/illinois_doc_dataset/front/front/X79064.jpg\n",
      "Warning: Unable to read image file illinois_doc_dataset/illinois_doc_dataset/front/front/X78317.jpg\n",
      "Warning: Unable to read image file illinois_doc_dataset/illinois_doc_dataset/front/front/X79058.jpg\n",
      "Warning: Unable to read image file illinois_doc_dataset/illinois_doc_dataset/front/front/X78763.jpg\n",
      "Warning: Unable to read image file illinois_doc_dataset/illinois_doc_dataset/front/front/X77128.jpg\n",
      "Warning: Unable to read image file illinois_doc_dataset/illinois_doc_dataset/front/front/X78482.jpg\n",
      "Warning: Unable to read image file illinois_doc_dataset/illinois_doc_dataset/front/front/X77506.jpg\n",
      "Warning: Unable to read image file illinois_doc_dataset/illinois_doc_dataset/front/front/X71000.jpg\n",
      "Warning: Unable to read image file illinois_doc_dataset/illinois_doc_dataset/front/front/X77764.jpg\n",
      "Warning: Unable to read image file illinois_doc_dataset/illinois_doc_dataset/front/front/X76996.jpg\n",
      "Warning: Unable to read image file illinois_doc_dataset/illinois_doc_dataset/front/front/Y17620.jpg\n",
      "Warning: Unable to read image file illinois_doc_dataset/illinois_doc_dataset/front/front/X79017.jpg\n",
      "Warning: Unable to read image file illinois_doc_dataset/illinois_doc_dataset/front/front/X73763.jpg\n",
      "Warning: Unable to read image file illinois_doc_dataset/illinois_doc_dataset/front/front/X78458.jpg\n",
      "Warning: Unable to read image file illinois_doc_dataset/illinois_doc_dataset/front/front/Y14924.jpg\n",
      "Warning: Unable to read image file illinois_doc_dataset/illinois_doc_dataset/front/front/X78731.jpg\n",
      "Warning: Unable to read image file illinois_doc_dataset/illinois_doc_dataset/front/front/X78959.jpg\n",
      "Warning: Unable to read image file illinois_doc_dataset/illinois_doc_dataset/front/front/X78962.jpg\n",
      "Warning: Unable to read image file illinois_doc_dataset/illinois_doc_dataset/front/front/X77536.jpg\n",
      "Warning: Unable to read image file illinois_doc_dataset/illinois_doc_dataset/front/front/X77848.jpg\n",
      "Warning: Unable to read image file illinois_doc_dataset/illinois_doc_dataset/front/front/X78742.jpg\n",
      "Warning: Unable to read image file illinois_doc_dataset/illinois_doc_dataset/front/front/B21460.jpg\n",
      "Warning: Unable to read image file illinois_doc_dataset/illinois_doc_dataset/front/front/X78262.jpg\n",
      "Warning: Unable to read image file illinois_doc_dataset/illinois_doc_dataset/front/front/X78366.jpg\n",
      "Warning: Unable to read image file illinois_doc_dataset/illinois_doc_dataset/front/front/R81331.jpg\n",
      "Warning: Unable to read image file illinois_doc_dataset/illinois_doc_dataset/front/front/X77526.jpg\n",
      "Warning: Unable to read image file illinois_doc_dataset/illinois_doc_dataset/front/front/X77705.jpg\n",
      "Warning: Unable to read image file illinois_doc_dataset/illinois_doc_dataset/front/front/X77633.jpg\n",
      "Warning: Unable to read image file illinois_doc_dataset/illinois_doc_dataset/front/front/X78610.jpg\n",
      "Warning: Unable to read image file illinois_doc_dataset/illinois_doc_dataset/front/front/X78633.jpg\n",
      "Warning: Unable to read image file illinois_doc_dataset/illinois_doc_dataset/front/front/Y13472.jpg\n",
      "Warning: Unable to read image file illinois_doc_dataset/illinois_doc_dataset/front/front/X77314.jpg\n",
      "Warning: Unable to read image file illinois_doc_dataset/illinois_doc_dataset/front/front/X78296.jpg\n",
      "Warning: Unable to read image file illinois_doc_dataset/illinois_doc_dataset/front/front/X78896.jpg\n",
      "Warning: Unable to read image file illinois_doc_dataset/illinois_doc_dataset/front/front/R91037.jpg\n",
      "Warning: Unable to read image file illinois_doc_dataset/illinois_doc_dataset/front/front/X78961.jpg\n",
      "Warning: Unable to read image file illinois_doc_dataset/illinois_doc_dataset/front/front/X78070.jpg\n",
      "Warning: Unable to read image file illinois_doc_dataset/illinois_doc_dataset/front/front/X78924.jpg\n",
      "Warning: Unable to read image file illinois_doc_dataset/illinois_doc_dataset/front/front/X78542.jpg\n",
      "Warning: Unable to read image file illinois_doc_dataset/illinois_doc_dataset/front/front/X78338.jpg\n",
      "Warning: Unable to read image file illinois_doc_dataset/illinois_doc_dataset/front/front/X79004.jpg\n",
      "Warning: Unable to read image file illinois_doc_dataset/illinois_doc_dataset/front/front/X78819.jpg\n",
      "Warning: Unable to read image file illinois_doc_dataset/illinois_doc_dataset/front/front/X77012.jpg\n",
      "Warning: Unable to read image file illinois_doc_dataset/illinois_doc_dataset/front/front/X76928.jpg\n",
      "Warning: Unable to read image file illinois_doc_dataset/illinois_doc_dataset/front/front/X77467.jpg\n",
      "Warning: Unable to read image file illinois_doc_dataset/illinois_doc_dataset/front/front/X77937.jpg\n",
      "Warning: Unable to read image file illinois_doc_dataset/illinois_doc_dataset/front/front/X79009.jpg\n",
      "Warning: Unable to read image file illinois_doc_dataset/illinois_doc_dataset/front/front/X78618.jpg\n",
      "Warning: Unable to read image file illinois_doc_dataset/illinois_doc_dataset/front/front/X77933.jpg\n",
      "Warning: Unable to read image file illinois_doc_dataset/illinois_doc_dataset/front/front/R91986.jpg\n",
      "Warning: Unable to read image file illinois_doc_dataset/illinois_doc_dataset/front/front/Y13469.jpg\n",
      "Warning: Unable to read image file illinois_doc_dataset/illinois_doc_dataset/front/front/X76126.jpg\n",
      "Warning: Unable to read image file illinois_doc_dataset/illinois_doc_dataset/front/front/X78123.jpg\n",
      "Warning: Unable to read image file illinois_doc_dataset/illinois_doc_dataset/front/front/B21338.jpg\n"
     ]
    }
   ],
   "source": [
    "image_folder = \"illinois_doc_dataset/illinois_doc_dataset/front/front\"\n",
    "image_size = (512, 512)  # Resize all for consistency\n",
    "image_ids = []\n",
    "image_front_data = []\n",
    "\n",
    "male_count = 0\n",
    "male_limit = 4000\n",
    "\n",
    "for filename in os.listdir(image_folder):    \n",
    "    if filename.endswith(\".jpg\") or filename.endswith(\".png\"):\n",
    "        file_path = os.path.join(image_folder, filename)\n",
    "        \n",
    "        image_id = os.path.splitext(filename)[0]\n",
    "        \n",
    "        if image_id in custom_df['id'].values:\n",
    "            sex = custom_df[custom_df['id'] == image_id]['sex'].values[0]\n",
    "            if sex == 'Male' and male_count >= male_limit:\n",
    "                continue\n",
    "            \n",
    "            image = cv2.imread(file_path)\n",
    "            \n",
    "            if image is None:\n",
    "                print(f\"Warning: Unable to read image file {file_path}\")\n",
    "                continue\n",
    "            \n",
    "            try:\n",
    "                image = cv2.resize(image, image_size)\n",
    "                image = cv2.cvtColor(image, cv2.COLOR_BGR2GRAY)\n",
    "                \n",
    "                image_ids.append(image_id)\n",
    "                image_front_data.append(image.flatten())\n",
    "                \n",
    "                if sex == 'Male':\n",
    "                    male_count += 1\n",
    "            except Exception as e:\n",
    "                print(f\"Error processing {file_path}: {e}\")\n",
    "                continue"
   ]
  },
  {
   "cell_type": "markdown",
   "metadata": {},
   "source": [
    "Creating a dataframe of front images.\n",
    "\n",
    "Merge it with previous custom dataframe.\n"
   ]
  },
  {
   "cell_type": "code",
   "execution_count": 9,
   "metadata": {},
   "outputs": [],
   "source": [
    "image_df = pd.DataFrame({\n",
    "    \"image_id\": image_ids,\n",
    "    \"image_front_data\": image_front_data\n",
    "})\n",
    "\n",
    "custom_df['id'] = custom_df['id'].str.strip() \n",
    "image_df['image_id'] = image_df['image_id'].str.strip()\n",
    "\n",
    "merged_df = pd.merge(custom_df, image_df, how='left', left_on='id', right_on='image_id')\n",
    "merged_df.drop(columns=['image_id'], inplace=True)\n",
    "merged_df.dropna(subset=['image_front_data'], inplace=True)"
   ]
  },
  {
   "cell_type": "markdown",
   "metadata": {},
   "source": [
    "Loading side face.\n",
    "\n",
    "Adding side face data if the id is present in the custom dataframe"
   ]
  },
  {
   "cell_type": "code",
   "execution_count": 10,
   "metadata": {},
   "outputs": [
    {
     "name": "stdout",
     "output_type": "stream",
     "text": [
      "Warning: Unable to read image file illinois_doc_dataset/illinois_doc_dataset/side/side/K85127.jpg\n",
      "Warning: Unable to read image file illinois_doc_dataset/illinois_doc_dataset/side/side/S11520.jpg\n",
      "Warning: Unable to read image file illinois_doc_dataset/illinois_doc_dataset/side/side/M54237.jpg\n",
      "Warning: Unable to read image file illinois_doc_dataset/illinois_doc_dataset/side/side/X78593.jpg\n",
      "Warning: Unable to read image file illinois_doc_dataset/illinois_doc_dataset/side/side/Y20243.jpg\n",
      "Warning: Unable to read image file illinois_doc_dataset/illinois_doc_dataset/side/side/X76976.jpg\n",
      "Warning: Unable to read image file illinois_doc_dataset/illinois_doc_dataset/side/side/X78222.jpg\n",
      "Warning: Unable to read image file illinois_doc_dataset/illinois_doc_dataset/side/side/M31444.jpg\n",
      "Warning: Unable to read image file illinois_doc_dataset/illinois_doc_dataset/side/side/X78055.jpg\n",
      "Warning: Unable to read image file illinois_doc_dataset/illinois_doc_dataset/side/side/B66533.jpg\n",
      "Warning: Unable to read image file illinois_doc_dataset/illinois_doc_dataset/side/side/N97269.jpg\n",
      "Warning: Unable to read image file illinois_doc_dataset/illinois_doc_dataset/side/side/M55193.jpg\n",
      "Warning: Unable to read image file illinois_doc_dataset/illinois_doc_dataset/side/side/X78586.jpg\n",
      "Warning: Unable to read image file illinois_doc_dataset/illinois_doc_dataset/side/side/X62757.jpg\n",
      "Warning: Unable to read image file illinois_doc_dataset/illinois_doc_dataset/side/side/X78264.jpg\n",
      "Warning: Unable to read image file illinois_doc_dataset/illinois_doc_dataset/side/side/X78572.jpg\n",
      "Warning: Unable to read image file illinois_doc_dataset/illinois_doc_dataset/side/side/X78859.jpg\n",
      "Warning: Unable to read image file illinois_doc_dataset/illinois_doc_dataset/side/side/X78981.jpg\n",
      "Warning: Unable to read image file illinois_doc_dataset/illinois_doc_dataset/side/side/X78975.jpg\n",
      "Warning: Unable to read image file illinois_doc_dataset/illinois_doc_dataset/side/side/X76935.jpg\n",
      "Warning: Unable to read image file illinois_doc_dataset/illinois_doc_dataset/side/side/X77471.jpg\n",
      "Warning: Unable to read image file illinois_doc_dataset/illinois_doc_dataset/side/side/X77709.jpg\n",
      "Warning: Unable to read image file illinois_doc_dataset/illinois_doc_dataset/side/side/X77625.jpg\n",
      "Warning: Unable to read image file illinois_doc_dataset/illinois_doc_dataset/side/side/X79073.jpg\n",
      "Warning: Unable to read image file illinois_doc_dataset/illinois_doc_dataset/side/side/X78198.jpg\n",
      "Warning: Unable to read image file illinois_doc_dataset/illinois_doc_dataset/side/side/X78184.jpg\n",
      "Warning: Unable to read image file illinois_doc_dataset/illinois_doc_dataset/side/side/X78941.jpg\n",
      "Warning: Unable to read image file illinois_doc_dataset/illinois_doc_dataset/side/side/X79040.jpg\n",
      "Warning: Unable to read image file illinois_doc_dataset/illinois_doc_dataset/side/side/M44446.jpg\n",
      "Warning: Unable to read image file illinois_doc_dataset/illinois_doc_dataset/side/side/R92134.jpg\n",
      "Warning: Unable to read image file illinois_doc_dataset/illinois_doc_dataset/side/side/B13502.jpg\n",
      "Warning: Unable to read image file illinois_doc_dataset/illinois_doc_dataset/side/side/X77454.jpg\n",
      "Warning: Unable to read image file illinois_doc_dataset/illinois_doc_dataset/side/side/X74237.jpg\n",
      "Warning: Unable to read image file illinois_doc_dataset/illinois_doc_dataset/side/side/X72804.jpg\n",
      "Warning: Unable to read image file illinois_doc_dataset/illinois_doc_dataset/side/side/Y22777.jpg\n",
      "Warning: Unable to read image file illinois_doc_dataset/illinois_doc_dataset/side/side/X78736.jpg\n",
      "Warning: Unable to read image file illinois_doc_dataset/illinois_doc_dataset/side/side/X78844.jpg\n",
      "Warning: Unable to read image file illinois_doc_dataset/illinois_doc_dataset/side/side/N20007.jpg\n",
      "Warning: Unable to read image file illinois_doc_dataset/illinois_doc_dataset/side/side/X77855.jpg\n",
      "Warning: Unable to read image file illinois_doc_dataset/illinois_doc_dataset/side/side/M38333.jpg\n",
      "Warning: Unable to read image file illinois_doc_dataset/illinois_doc_dataset/side/side/X78636.jpg\n",
      "Warning: Unable to read image file illinois_doc_dataset/illinois_doc_dataset/side/side/N73737.jpg\n",
      "Warning: Unable to read image file illinois_doc_dataset/illinois_doc_dataset/side/side/X78294.jpg\n",
      "Warning: Unable to read image file illinois_doc_dataset/illinois_doc_dataset/side/side/X78409.jpg\n",
      "Warning: Unable to read image file illinois_doc_dataset/illinois_doc_dataset/side/side/X78903.jpg\n",
      "Warning: Unable to read image file illinois_doc_dataset/illinois_doc_dataset/side/side/X78698.jpg\n",
      "Warning: Unable to read image file illinois_doc_dataset/illinois_doc_dataset/side/side/X78271.jpg\n",
      "Warning: Unable to read image file illinois_doc_dataset/illinois_doc_dataset/side/side/X77824.jpg\n",
      "Warning: Unable to read image file illinois_doc_dataset/illinois_doc_dataset/side/side/X77926.jpg\n",
      "Warning: Unable to read image file illinois_doc_dataset/illinois_doc_dataset/side/side/X78997.jpg\n",
      "Warning: Unable to read image file illinois_doc_dataset/illinois_doc_dataset/side/side/Y18270.jpg\n",
      "Warning: Unable to read image file illinois_doc_dataset/illinois_doc_dataset/side/side/X78945.jpg\n",
      "Warning: Unable to read image file illinois_doc_dataset/illinois_doc_dataset/side/side/X79070.jpg\n",
      "Warning: Unable to read image file illinois_doc_dataset/illinois_doc_dataset/side/side/A93211.jpg\n",
      "Warning: Unable to read image file illinois_doc_dataset/illinois_doc_dataset/side/side/X78692.jpg\n",
      "Warning: Unable to read image file illinois_doc_dataset/illinois_doc_dataset/side/side/X74551.jpg\n",
      "Warning: Unable to read image file illinois_doc_dataset/illinois_doc_dataset/side/side/X78440.jpg\n",
      "Warning: Unable to read image file illinois_doc_dataset/illinois_doc_dataset/side/side/R92135.jpg\n",
      "Warning: Unable to read image file illinois_doc_dataset/illinois_doc_dataset/side/side/X79074.jpg\n",
      "Warning: Unable to read image file illinois_doc_dataset/illinois_doc_dataset/side/side/X79081.jpg\n",
      "Warning: Unable to read image file illinois_doc_dataset/illinois_doc_dataset/side/side/X78682.jpg\n",
      "Warning: Unable to read image file illinois_doc_dataset/illinois_doc_dataset/side/side/C06586.jpg\n",
      "Warning: Unable to read image file illinois_doc_dataset/illinois_doc_dataset/side/side/X78650.jpg\n",
      "Warning: Unable to read image file illinois_doc_dataset/illinois_doc_dataset/side/side/X78369.jpg\n",
      "Warning: Unable to read image file illinois_doc_dataset/illinois_doc_dataset/side/side/X78762.jpg\n",
      "Warning: Unable to read image file illinois_doc_dataset/illinois_doc_dataset/side/side/X77865.jpg\n",
      "Warning: Unable to read image file illinois_doc_dataset/illinois_doc_dataset/side/side/X79032.jpg\n",
      "Warning: Unable to read image file illinois_doc_dataset/illinois_doc_dataset/side/side/X77955.jpg\n",
      "Warning: Unable to read image file illinois_doc_dataset/illinois_doc_dataset/side/side/X76975.jpg\n",
      "Warning: Unable to read image file illinois_doc_dataset/illinois_doc_dataset/side/side/X78112.jpg\n",
      "Warning: Unable to read image file illinois_doc_dataset/illinois_doc_dataset/side/side/X79020.jpg\n",
      "Warning: Unable to read image file illinois_doc_dataset/illinois_doc_dataset/side/side/X76282.jpg\n",
      "Warning: Unable to read image file illinois_doc_dataset/illinois_doc_dataset/side/side/R91811.jpg\n",
      "Warning: Unable to read image file illinois_doc_dataset/illinois_doc_dataset/side/side/X78655.jpg\n",
      "Warning: Unable to read image file illinois_doc_dataset/illinois_doc_dataset/side/side/M41199.jpg\n",
      "Warning: Unable to read image file illinois_doc_dataset/illinois_doc_dataset/side/side/Y22386.jpg\n",
      "Warning: Unable to read image file illinois_doc_dataset/illinois_doc_dataset/side/side/X78777.jpg\n",
      "Warning: Unable to read image file illinois_doc_dataset/illinois_doc_dataset/side/side/X78179.jpg\n",
      "Warning: Unable to read image file illinois_doc_dataset/illinois_doc_dataset/side/side/X78866.jpg\n",
      "Warning: Unable to read image file illinois_doc_dataset/illinois_doc_dataset/side/side/X78577.jpg\n",
      "Warning: Unable to read image file illinois_doc_dataset/illinois_doc_dataset/side/side/X78846.jpg\n",
      "Warning: Unable to read image file illinois_doc_dataset/illinois_doc_dataset/side/side/R91659.jpg\n",
      "Warning: Unable to read image file illinois_doc_dataset/illinois_doc_dataset/side/side/X78180.jpg\n",
      "Warning: Unable to read image file illinois_doc_dataset/illinois_doc_dataset/side/side/X78994.jpg\n",
      "Warning: Unable to read image file illinois_doc_dataset/illinois_doc_dataset/side/side/X73057.jpg\n",
      "Warning: Unable to read image file illinois_doc_dataset/illinois_doc_dataset/side/side/X78881.jpg\n",
      "Warning: Unable to read image file illinois_doc_dataset/illinois_doc_dataset/side/side/X78854.jpg\n",
      "Warning: Unable to read image file illinois_doc_dataset/illinois_doc_dataset/side/side/X78616.jpg\n",
      "Warning: Unable to read image file illinois_doc_dataset/illinois_doc_dataset/side/side/X76305.jpg\n",
      "Warning: Unable to read image file illinois_doc_dataset/illinois_doc_dataset/side/side/X79057.jpg\n",
      "Warning: Unable to read image file illinois_doc_dataset/illinois_doc_dataset/side/side/X77336.jpg\n",
      "Warning: Unable to read image file illinois_doc_dataset/illinois_doc_dataset/side/side/X77663.jpg\n",
      "Warning: Unable to read image file illinois_doc_dataset/illinois_doc_dataset/side/side/X77113.jpg\n",
      "Warning: Unable to read image file illinois_doc_dataset/illinois_doc_dataset/side/side/X72256.jpg\n",
      "Warning: Unable to read image file illinois_doc_dataset/illinois_doc_dataset/side/side/X78907.jpg\n",
      "Warning: Unable to read image file illinois_doc_dataset/illinois_doc_dataset/side/side/X78048.jpg\n",
      "Warning: Unable to read image file illinois_doc_dataset/illinois_doc_dataset/side/side/X76748.jpg\n",
      "Warning: Unable to read image file illinois_doc_dataset/illinois_doc_dataset/side/side/X73426.jpg\n",
      "Warning: Unable to read image file illinois_doc_dataset/illinois_doc_dataset/side/side/X78263.jpg\n",
      "Warning: Unable to read image file illinois_doc_dataset/illinois_doc_dataset/side/side/X78818.jpg\n",
      "Warning: Unable to read image file illinois_doc_dataset/illinois_doc_dataset/side/side/X74563.jpg\n",
      "Warning: Unable to read image file illinois_doc_dataset/illinois_doc_dataset/side/side/X78475.jpg\n",
      "Warning: Unable to read image file illinois_doc_dataset/illinois_doc_dataset/side/side/X78127.jpg\n",
      "Warning: Unable to read image file illinois_doc_dataset/illinois_doc_dataset/side/side/X78581.jpg\n",
      "Warning: Unable to read image file illinois_doc_dataset/illinois_doc_dataset/side/side/X78558.jpg\n",
      "Warning: Unable to read image file illinois_doc_dataset/illinois_doc_dataset/side/side/X78983.jpg\n",
      "Warning: Unable to read image file illinois_doc_dataset/illinois_doc_dataset/side/side/X79064.jpg\n",
      "Warning: Unable to read image file illinois_doc_dataset/illinois_doc_dataset/side/side/X78317.jpg\n",
      "Warning: Unable to read image file illinois_doc_dataset/illinois_doc_dataset/side/side/X79058.jpg\n"
     ]
    },
    {
     "ename": "KeyboardInterrupt",
     "evalue": "",
     "output_type": "error",
     "traceback": [
      "\u001b[0;31m---------------------------------------------------------------------------\u001b[0m",
      "\u001b[0;31mKeyboardInterrupt\u001b[0m                         Traceback (most recent call last)",
      "Cell \u001b[0;32mIn[10], line 17\u001b[0m\n\u001b[1;32m     14\u001b[0m image_id \u001b[38;5;241m=\u001b[39m os\u001b[38;5;241m.\u001b[39mpath\u001b[38;5;241m.\u001b[39msplitext(filename)[\u001b[38;5;241m0\u001b[39m]\n\u001b[1;32m     16\u001b[0m \u001b[38;5;28;01mif\u001b[39;00m image_id \u001b[38;5;129;01min\u001b[39;00m custom_df[\u001b[38;5;124m'\u001b[39m\u001b[38;5;124mid\u001b[39m\u001b[38;5;124m'\u001b[39m]\u001b[38;5;241m.\u001b[39mvalues:\n\u001b[0;32m---> 17\u001b[0m     sex \u001b[38;5;241m=\u001b[39m custom_df[\u001b[43mcustom_df\u001b[49m\u001b[43m[\u001b[49m\u001b[38;5;124;43m'\u001b[39;49m\u001b[38;5;124;43mid\u001b[39;49m\u001b[38;5;124;43m'\u001b[39;49m\u001b[43m]\u001b[49m\u001b[43m \u001b[49m\u001b[38;5;241;43m==\u001b[39;49m\u001b[43m \u001b[49m\u001b[43mimage_id\u001b[49m][\u001b[38;5;124m'\u001b[39m\u001b[38;5;124msex\u001b[39m\u001b[38;5;124m'\u001b[39m]\u001b[38;5;241m.\u001b[39mvalues[\u001b[38;5;241m0\u001b[39m]\n\u001b[1;32m     18\u001b[0m     \u001b[38;5;28;01mif\u001b[39;00m sex \u001b[38;5;241m==\u001b[39m \u001b[38;5;124m'\u001b[39m\u001b[38;5;124mMale\u001b[39m\u001b[38;5;124m'\u001b[39m \u001b[38;5;129;01mand\u001b[39;00m male_count \u001b[38;5;241m>\u001b[39m\u001b[38;5;241m=\u001b[39m male_limit:\n\u001b[1;32m     19\u001b[0m         \u001b[38;5;28;01mcontinue\u001b[39;00m\n",
      "File \u001b[0;32m~/.local/lib/python3.12/site-packages/pandas/core/ops/common.py:76\u001b[0m, in \u001b[0;36m_unpack_zerodim_and_defer.<locals>.new_method\u001b[0;34m(self, other)\u001b[0m\n\u001b[1;32m     72\u001b[0m             \u001b[38;5;28;01mreturn\u001b[39;00m \u001b[38;5;28mNotImplemented\u001b[39m\n\u001b[1;32m     74\u001b[0m other \u001b[38;5;241m=\u001b[39m item_from_zerodim(other)\n\u001b[0;32m---> 76\u001b[0m \u001b[38;5;28;01mreturn\u001b[39;00m \u001b[43mmethod\u001b[49m\u001b[43m(\u001b[49m\u001b[38;5;28;43mself\u001b[39;49m\u001b[43m,\u001b[49m\u001b[43m \u001b[49m\u001b[43mother\u001b[49m\u001b[43m)\u001b[49m\n",
      "File \u001b[0;32m~/.local/lib/python3.12/site-packages/pandas/core/arraylike.py:40\u001b[0m, in \u001b[0;36mOpsMixin.__eq__\u001b[0;34m(self, other)\u001b[0m\n\u001b[1;32m     38\u001b[0m \u001b[38;5;129m@unpack_zerodim_and_defer\u001b[39m(\u001b[38;5;124m\"\u001b[39m\u001b[38;5;124m__eq__\u001b[39m\u001b[38;5;124m\"\u001b[39m)\n\u001b[1;32m     39\u001b[0m \u001b[38;5;28;01mdef\u001b[39;00m \u001b[38;5;21m__eq__\u001b[39m(\u001b[38;5;28mself\u001b[39m, other):\n\u001b[0;32m---> 40\u001b[0m     \u001b[38;5;28;01mreturn\u001b[39;00m \u001b[38;5;28;43mself\u001b[39;49m\u001b[38;5;241;43m.\u001b[39;49m\u001b[43m_cmp_method\u001b[49m\u001b[43m(\u001b[49m\u001b[43mother\u001b[49m\u001b[43m,\u001b[49m\u001b[43m \u001b[49m\u001b[43moperator\u001b[49m\u001b[38;5;241;43m.\u001b[39;49m\u001b[43meq\u001b[49m\u001b[43m)\u001b[49m\n",
      "File \u001b[0;32m~/.local/lib/python3.12/site-packages/pandas/core/series.py:6119\u001b[0m, in \u001b[0;36mSeries._cmp_method\u001b[0;34m(self, other, op)\u001b[0m\n\u001b[1;32m   6116\u001b[0m lvalues \u001b[38;5;241m=\u001b[39m \u001b[38;5;28mself\u001b[39m\u001b[38;5;241m.\u001b[39m_values\n\u001b[1;32m   6117\u001b[0m rvalues \u001b[38;5;241m=\u001b[39m extract_array(other, extract_numpy\u001b[38;5;241m=\u001b[39m\u001b[38;5;28;01mTrue\u001b[39;00m, extract_range\u001b[38;5;241m=\u001b[39m\u001b[38;5;28;01mTrue\u001b[39;00m)\n\u001b[0;32m-> 6119\u001b[0m res_values \u001b[38;5;241m=\u001b[39m \u001b[43mops\u001b[49m\u001b[38;5;241;43m.\u001b[39;49m\u001b[43mcomparison_op\u001b[49m\u001b[43m(\u001b[49m\u001b[43mlvalues\u001b[49m\u001b[43m,\u001b[49m\u001b[43m \u001b[49m\u001b[43mrvalues\u001b[49m\u001b[43m,\u001b[49m\u001b[43m \u001b[49m\u001b[43mop\u001b[49m\u001b[43m)\u001b[49m\n\u001b[1;32m   6121\u001b[0m \u001b[38;5;28;01mreturn\u001b[39;00m \u001b[38;5;28mself\u001b[39m\u001b[38;5;241m.\u001b[39m_construct_result(res_values, name\u001b[38;5;241m=\u001b[39mres_name)\n",
      "File \u001b[0;32m~/.local/lib/python3.12/site-packages/pandas/core/ops/array_ops.py:344\u001b[0m, in \u001b[0;36mcomparison_op\u001b[0;34m(left, right, op)\u001b[0m\n\u001b[1;32m    341\u001b[0m     \u001b[38;5;28;01mreturn\u001b[39;00m invalid_comparison(lvalues, rvalues, op)\n\u001b[1;32m    343\u001b[0m \u001b[38;5;28;01melif\u001b[39;00m lvalues\u001b[38;5;241m.\u001b[39mdtype \u001b[38;5;241m==\u001b[39m \u001b[38;5;28mobject\u001b[39m \u001b[38;5;129;01mor\u001b[39;00m \u001b[38;5;28misinstance\u001b[39m(rvalues, \u001b[38;5;28mstr\u001b[39m):\n\u001b[0;32m--> 344\u001b[0m     res_values \u001b[38;5;241m=\u001b[39m \u001b[43mcomp_method_OBJECT_ARRAY\u001b[49m\u001b[43m(\u001b[49m\u001b[43mop\u001b[49m\u001b[43m,\u001b[49m\u001b[43m \u001b[49m\u001b[43mlvalues\u001b[49m\u001b[43m,\u001b[49m\u001b[43m \u001b[49m\u001b[43mrvalues\u001b[49m\u001b[43m)\u001b[49m\n\u001b[1;32m    346\u001b[0m \u001b[38;5;28;01melse\u001b[39;00m:\n\u001b[1;32m    347\u001b[0m     res_values \u001b[38;5;241m=\u001b[39m _na_arithmetic_op(lvalues, rvalues, op, is_cmp\u001b[38;5;241m=\u001b[39m\u001b[38;5;28;01mTrue\u001b[39;00m)\n",
      "File \u001b[0;32m~/.local/lib/python3.12/site-packages/pandas/core/ops/array_ops.py:129\u001b[0m, in \u001b[0;36mcomp_method_OBJECT_ARRAY\u001b[0;34m(op, x, y)\u001b[0m\n\u001b[1;32m    127\u001b[0m     result \u001b[38;5;241m=\u001b[39m libops\u001b[38;5;241m.\u001b[39mvec_compare(x\u001b[38;5;241m.\u001b[39mravel(), y\u001b[38;5;241m.\u001b[39mravel(), op)\n\u001b[1;32m    128\u001b[0m \u001b[38;5;28;01melse\u001b[39;00m:\n\u001b[0;32m--> 129\u001b[0m     result \u001b[38;5;241m=\u001b[39m \u001b[43mlibops\u001b[49m\u001b[38;5;241;43m.\u001b[39;49m\u001b[43mscalar_compare\u001b[49m\u001b[43m(\u001b[49m\u001b[43mx\u001b[49m\u001b[38;5;241;43m.\u001b[39;49m\u001b[43mravel\u001b[49m\u001b[43m(\u001b[49m\u001b[43m)\u001b[49m\u001b[43m,\u001b[49m\u001b[43m \u001b[49m\u001b[43my\u001b[49m\u001b[43m,\u001b[49m\u001b[43m \u001b[49m\u001b[43mop\u001b[49m\u001b[43m)\u001b[49m\n\u001b[1;32m    130\u001b[0m \u001b[38;5;28;01mreturn\u001b[39;00m result\u001b[38;5;241m.\u001b[39mreshape(x\u001b[38;5;241m.\u001b[39mshape)\n",
      "\u001b[0;31mKeyboardInterrupt\u001b[0m: "
     ]
    }
   ],
   "source": [
    "image_folder = \"illinois_doc_dataset/illinois_doc_dataset/side/side\"\n",
    "image_size = (512, 512)\n",
    "image_ids = []\n",
    "image_side_data = []\n",
    "\n",
    "male_count = 0\n",
    "male_limit = 4000\n",
    "\n",
    "for filename in os.listdir(image_folder):\n",
    "    \n",
    "    if filename.endswith(\".jpg\") or filename.endswith(\".png\"):\n",
    "        file_path = os.path.join(image_folder, filename)\n",
    "        \n",
    "        image_id = os.path.splitext(filename)[0]\n",
    "        \n",
    "        if image_id in custom_df['id'].values:\n",
    "            sex = custom_df[custom_df['id'] == image_id]['sex'].values[0]\n",
    "            if sex == 'Male' and male_count >= male_limit:\n",
    "                continue\n",
    "            \n",
    "            image = cv2.imread(file_path)\n",
    "            \n",
    "            if image is None:\n",
    "                print(f\"Warning: Unable to read image file {file_path}\")\n",
    "                continue\n",
    "            \n",
    "            try:\n",
    "                image = cv2.resize(image, image_size)\n",
    "                image = cv2.cvtColor(image, cv2.COLOR_BGR2GRAY)\n",
    "                \n",
    "                image_ids.append(image_id)\n",
    "                image_side_data.append(image.flatten())\n",
    "                \n",
    "                if sex == 'Male':\n",
    "                    male_count += 1\n",
    "            except Exception as e:\n",
    "                print(f\"Error processing {file_path}: {e}\")\n",
    "                continue"
   ]
  },
  {
   "cell_type": "markdown",
   "metadata": {},
   "source": [
    "Creating a dataframe of side images.\n",
    "\n",
    "Merge it with previous custom dataframe."
   ]
  },
  {
   "cell_type": "code",
   "execution_count": null,
   "metadata": {},
   "outputs": [],
   "source": [
    "image_df = pd.DataFrame({\n",
    "    \"image_id\": image_ids,\n",
    "    \"image_side_data\": image_side_data\n",
    "})\n",
    "\n",
    "custom_df['id'] = custom_df['id'].str.strip()\n",
    "image_df['image_id'] = image_df['image_id'].str.strip()\n",
    "\n",
    "merged_df = pd.merge(merged_df, image_df, how='left', left_on='id', right_on='image_id')\n",
    "merged_df.drop(columns=['image_id'], inplace=True)\n",
    "merged_df.dropna(subset=['image_side_data'], inplace=True)"
   ]
  },
  {
   "cell_type": "markdown",
   "metadata": {},
   "source": [
    "Saving the DataFrame to an HDF5 file"
   ]
  },
  {
   "cell_type": "code",
   "execution_count": null,
   "metadata": {},
   "outputs": [
    {
     "name": "stdout",
     "output_type": "stream",
     "text": [
      "Final DataFrame saved to 'custom_dataset.pkl' with 7663 records.\n"
     ]
    },
    {
     "ename": "",
     "evalue": "",
     "output_type": "error",
     "traceback": [
      "\u001b[1;31mThe Kernel crashed while executing code in the current cell or a previous cell. \n",
      "\u001b[1;31mPlease review the code in the cell(s) to identify a possible cause of the failure. \n",
      "\u001b[1;31mClick <a href='https://aka.ms/vscodeJupyterKernelCrash'>here</a> for more info. \n",
      "\u001b[1;31mView Jupyter <a href='command:jupyter.viewOutput'>log</a> for further details."
     ]
    }
   ],
   "source": [
    "with open('custom_dataset.pkl', 'wb') as f:\n",
    "    pickle.dump(merged_df, f)\n",
    "\n",
    "print(f\"Final DataFrame saved to 'custom_dataset.pkl' with {len(merged_df)} records.\")"
   ]
  },
  {
   "cell_type": "markdown",
   "metadata": {},
   "source": [
    "Reading HDF5 file"
   ]
  },
  {
   "cell_type": "code",
   "execution_count": null,
   "metadata": {},
   "outputs": [],
   "source": [
    "# Read the DataFrame from the pickle file\n",
    "with open('custom_dataset.pkl', 'rb') as f:\n",
    "    loaded_df = pickle.load(f)\n",
    "\n",
    "# Convert the list to a 2D matrix of shape (512, 512)\n",
    "loaded_df['image_front_data'] = loaded_df['image_front_data'].apply(lambda x: np.array(x).reshape(512, 512))\n",
    "loaded_df['image_side_data'] = loaded_df['image_side_data'].apply(lambda x: np.array(x).reshape(512, 512))\n",
    "\n",
    "# # Check the shape of the first image to verify\n",
    "print(loaded_df['image_front_data'].iloc[120].shape)\n",
    "print(loaded_df['image_side_data'].iloc[120].shape)\n",
    "loaded_df.head()"
   ]
  }
 ],
 "metadata": {
  "kernelspec": {
   "display_name": "Python 3",
   "language": "python",
   "name": "python3"
  },
  "language_info": {
   "codemirror_mode": {
    "name": "ipython",
    "version": 3
   },
   "file_extension": ".py",
   "mimetype": "text/x-python",
   "name": "python",
   "nbconvert_exporter": "python",
   "pygments_lexer": "ipython3",
   "version": "3.12.3"
  }
 },
 "nbformat": 4,
 "nbformat_minor": 2
}
