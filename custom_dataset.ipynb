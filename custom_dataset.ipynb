{
 "cells": [
  {
   "cell_type": "code",
   "execution_count": 2,
   "metadata": {},
   "outputs": [],
   "source": [
    "import pandas as pd\n",
    "import numpy as np\n",
    "import matplotlib.pyplot as plt"
   ]
  },
  {
   "cell_type": "code",
   "execution_count": 7,
   "metadata": {},
   "outputs": [
    {
     "name": "stdout",
     "output_type": "stream",
     "text": [
      "<class 'pandas.core.frame.DataFrame'>\n",
      "RangeIndex: 61110 entries, 0 to 61109\n",
      "Data columns (total 22 columns):\n",
      " #   Column                          Non-Null Count  Dtype  \n",
      "---  ------                          --------------  -----  \n",
      " 0   id                              61110 non-null  object \n",
      " 1   name                            61110 non-null  object \n",
      " 2   date_of_birth                   61096 non-null  object \n",
      " 3   weight                          60716 non-null  float64\n",
      " 4   hair                            61109 non-null  object \n",
      " 5   sex                             61109 non-null  object \n",
      " 6   height                          60728 non-null  float64\n",
      " 7   race                            61106 non-null  object \n",
      " 8   eyes                            61109 non-null  object \n",
      " 9   admission_date                  61109 non-null  object \n",
      " 10  projected_parole_date           33932 non-null  object \n",
      " 11  last_paroled_date               8474 non-null   object \n",
      " 12  projected_discharge_date        61095 non-null  object \n",
      " 13  parole_date                     25549 non-null  object \n",
      " 14  electronic_detention_date       4 non-null      object \n",
      " 15  discharge_date                  0 non-null      float64\n",
      " 16  parent_institution              61109 non-null  object \n",
      " 17  offender_status                 61109 non-null  object \n",
      " 18  location                        60759 non-null  object \n",
      " 19  sex_offender_registry_required  7422 non-null   object \n",
      " 20  alias                           158 non-null    object \n",
      " 21  Unnamed: 21                     0 non-null      float64\n",
      "dtypes: float64(4), object(18)\n",
      "memory usage: 10.3+ MB\n"
     ]
    }
   ],
   "source": [
    "df = pd.read_csv(r'illinois_doc_dataset\\csv\\person.csv', sep=';')\n",
    "df.info()"
   ]
  },
  {
   "cell_type": "code",
   "execution_count": 4,
   "metadata": {},
   "outputs": [
    {
     "data": {
      "text/html": [
       "<div>\n",
       "<style scoped>\n",
       "    .dataframe tbody tr th:only-of-type {\n",
       "        vertical-align: middle;\n",
       "    }\n",
       "\n",
       "    .dataframe tbody tr th {\n",
       "        vertical-align: top;\n",
       "    }\n",
       "\n",
       "    .dataframe thead th {\n",
       "        text-align: right;\n",
       "    }\n",
       "</style>\n",
       "<table border=\"1\" class=\"dataframe\">\n",
       "  <thead>\n",
       "    <tr style=\"text-align: right;\">\n",
       "      <th></th>\n",
       "      <th>id</th>\n",
       "      <th>sex</th>\n",
       "      <th>weight</th>\n",
       "      <th>height</th>\n",
       "    </tr>\n",
       "  </thead>\n",
       "  <tbody>\n",
       "    <tr>\n",
       "      <th>0</th>\n",
       "      <td>A00147</td>\n",
       "      <td>Male</td>\n",
       "      <td>83.914520</td>\n",
       "      <td>1.7018</td>\n",
       "    </tr>\n",
       "    <tr>\n",
       "      <th>1</th>\n",
       "      <td>A00220</td>\n",
       "      <td>Male</td>\n",
       "      <td>70.306760</td>\n",
       "      <td>1.8542</td>\n",
       "    </tr>\n",
       "    <tr>\n",
       "      <th>2</th>\n",
       "      <td>A00360</td>\n",
       "      <td>Male</td>\n",
       "      <td>75.749864</td>\n",
       "      <td>1.7526</td>\n",
       "    </tr>\n",
       "    <tr>\n",
       "      <th>3</th>\n",
       "      <td>A00367</td>\n",
       "      <td>Male</td>\n",
       "      <td>111.130040</td>\n",
       "      <td>1.8288</td>\n",
       "    </tr>\n",
       "    <tr>\n",
       "      <th>4</th>\n",
       "      <td>A01054</td>\n",
       "      <td>Male</td>\n",
       "      <td>75.296272</td>\n",
       "      <td>1.7018</td>\n",
       "    </tr>\n",
       "  </tbody>\n",
       "</table>\n",
       "</div>"
      ],
      "text/plain": [
       "       id   sex      weight  height\n",
       "0  A00147  Male   83.914520  1.7018\n",
       "1  A00220  Male   70.306760  1.8542\n",
       "2  A00360  Male   75.749864  1.7526\n",
       "3  A00367  Male  111.130040  1.8288\n",
       "4  A01054  Male   75.296272  1.7018"
      ]
     },
     "execution_count": 4,
     "metadata": {},
     "output_type": "execute_result"
    }
   ],
   "source": [
    "custom_df = df[['id', 'sex', 'weight', 'height']]\n",
    "custom_df.eval('weight = weight * 0.453592', inplace=True)\n",
    "custom_df.eval('height = height * 0.0254', inplace=True)\n",
    "custom_df.head()"
   ]
  },
  {
   "cell_type": "code",
   "execution_count": 5,
   "metadata": {},
   "outputs": [
    {
     "data": {
      "text/html": [
       "<div>\n",
       "<style scoped>\n",
       "    .dataframe tbody tr th:only-of-type {\n",
       "        vertical-align: middle;\n",
       "    }\n",
       "\n",
       "    .dataframe tbody tr th {\n",
       "        vertical-align: top;\n",
       "    }\n",
       "\n",
       "    .dataframe thead th {\n",
       "        text-align: right;\n",
       "    }\n",
       "</style>\n",
       "<table border=\"1\" class=\"dataframe\">\n",
       "  <thead>\n",
       "    <tr style=\"text-align: right;\">\n",
       "      <th></th>\n",
       "      <th>id</th>\n",
       "      <th>sex</th>\n",
       "      <th>weight</th>\n",
       "      <th>height</th>\n",
       "      <th>bmi</th>\n",
       "    </tr>\n",
       "  </thead>\n",
       "  <tbody>\n",
       "    <tr>\n",
       "      <th>0</th>\n",
       "      <td>A00147</td>\n",
       "      <td>Male</td>\n",
       "      <td>83.91</td>\n",
       "      <td>1.70</td>\n",
       "      <td>28.97</td>\n",
       "    </tr>\n",
       "    <tr>\n",
       "      <th>1</th>\n",
       "      <td>A00220</td>\n",
       "      <td>Male</td>\n",
       "      <td>70.31</td>\n",
       "      <td>1.85</td>\n",
       "      <td>20.45</td>\n",
       "    </tr>\n",
       "    <tr>\n",
       "      <th>2</th>\n",
       "      <td>A00360</td>\n",
       "      <td>Male</td>\n",
       "      <td>75.75</td>\n",
       "      <td>1.75</td>\n",
       "      <td>24.66</td>\n",
       "    </tr>\n",
       "    <tr>\n",
       "      <th>3</th>\n",
       "      <td>A00367</td>\n",
       "      <td>Male</td>\n",
       "      <td>111.13</td>\n",
       "      <td>1.83</td>\n",
       "      <td>33.23</td>\n",
       "    </tr>\n",
       "    <tr>\n",
       "      <th>4</th>\n",
       "      <td>A01054</td>\n",
       "      <td>Male</td>\n",
       "      <td>75.30</td>\n",
       "      <td>1.70</td>\n",
       "      <td>26.00</td>\n",
       "    </tr>\n",
       "  </tbody>\n",
       "</table>\n",
       "</div>"
      ],
      "text/plain": [
       "       id   sex  weight  height    bmi\n",
       "0  A00147  Male   83.91    1.70  28.97\n",
       "1  A00220  Male   70.31    1.85  20.45\n",
       "2  A00360  Male   75.75    1.75  24.66\n",
       "3  A00367  Male  111.13    1.83  33.23\n",
       "4  A01054  Male   75.30    1.70  26.00"
      ]
     },
     "execution_count": 5,
     "metadata": {},
     "output_type": "execute_result"
    }
   ],
   "source": [
    "custom_df.eval('bmi = weight / height ** 2', inplace=True)\n",
    "custom_df = custom_df.round(2)\n",
    "custom_df.head()"
   ]
  },
  {
   "cell_type": "code",
   "execution_count": 6,
   "metadata": {},
   "outputs": [],
   "source": [
    "custom_df.to_csv('custom_dataset.csv', sep=',', index=False)"
   ]
  }
 ],
 "metadata": {
  "kernelspec": {
   "display_name": "Python 3",
   "language": "python",
   "name": "python3"
  },
  "language_info": {
   "codemirror_mode": {
    "name": "ipython",
    "version": 3
   },
   "file_extension": ".py",
   "mimetype": "text/x-python",
   "name": "python",
   "nbconvert_exporter": "python",
   "pygments_lexer": "ipython3",
   "version": "3.12.0"
  }
 },
 "nbformat": 4,
 "nbformat_minor": 2
}
